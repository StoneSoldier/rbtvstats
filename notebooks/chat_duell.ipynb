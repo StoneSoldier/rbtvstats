{
 "cells": [
  {
   "cell_type": "markdown",
   "metadata": {
    "collapsed": false
   },
   "source": [
    "# Chat Duell\n",
    "___"
   ]
  },
  {
   "cell_type": "markdown",
   "metadata": {},
   "source": [
    "**Note**: At ~850MB of chat messages this script will use ~5GB of RAM. The calculations are single threaded and will take a few minutes (on an i7@4GHz)."
   ]
  },
  {
   "cell_type": "code",
   "execution_count": 1,
   "metadata": {
    "collapsed": true
   },
   "outputs": [],
   "source": [
    "from __future__ import unicode_literals\n",
    "import pandas as pd\n",
    "import matplotlib\n",
    "import matplotlib.pyplot as plt\n",
    "import pytz\n",
    "import re\n",
    "import os\n",
    "import sys\n",
    "import datetime"
   ]
  },
  {
   "cell_type": "code",
   "execution_count": 2,
   "metadata": {
    "collapsed": false
   },
   "outputs": [],
   "source": [
    "#config\n",
    "reload(sys)\n",
    "sys.setdefaultencoding('utf-8')\n",
    "matplotlib.style.use('ggplot')\n",
    "%matplotlib inline\n",
    "\n",
    "#constants\n",
    "CHAT_DATA_DIRECTORY = '/home/marcel/Development/rbtvdata/chat'\n",
    "LIVE_DATA_DIRECTORY = '/home/marcel/Development/rbtvdata/live'"
   ]
  },
  {
   "cell_type": "markdown",
   "metadata": {},
   "source": [
    "## Chat Data\n",
    "___"
   ]
  },
  {
   "cell_type": "code",
   "execution_count": 3,
   "metadata": {
    "collapsed": false
   },
   "outputs": [],
   "source": [
    "#chat dataframe\n",
    "columns = ['datetime', 'username', 'message']\n",
    "chat = pd.DataFrame({}, columns=columns)\n",
    "\n",
    "#read chat files\n",
    "exp = re.compile('\\[(.+?)\\] <(.+?)> (.+)?')\n",
    "files = sorted(os.listdir(CHAT_DATA_DIRECTORY))\n",
    "for filename in files:\n",
    "    if filename.endswith('.txt'):\n",
    "        filepath = os.path.join(CHAT_DATA_DIRECTORY, filename)\n",
    "        dateStr = filename.rstrip('.txt')\n",
    "        \n",
    "        #read file\n",
    "        openfile = open(filepath)\n",
    "        rawData = openfile.read()\n",
    "        openfile.close()\n",
    "\n",
    "        #process each chat message\n",
    "        splitRawData = rawData.split('\\n')\n",
    "        messages = []\n",
    "        for line in splitRawData:\n",
    "            match = exp.match(line)\n",
    "            if match is not None:\n",
    "                timeStr = match.group(1)\n",
    "                datetimeStr = dateStr + ' ' + timeStr\n",
    "                username = match.group(2)\n",
    "                message = match.group(3)\n",
    "                \n",
    "                messages.append((datetimeStr, username, message))\n",
    "\n",
    "        #create data frame and append data\n",
    "        chat = chat.append(pd.DataFrame(messages, columns=columns))\n",
    "\n",
    "#adjust data type\n",
    "chat['datetime'] = pd.to_datetime(chat['datetime'], format='%Y-%m-%d %H:%M:%S')\n",
    "\n",
    "#create additional columns\n",
    "chat['date'] = chat['datetime'].dt.date\n",
    "chat['time'] = chat['datetime'].dt.time\n",
    "chat['weekday'] = chat['datetime'].dt.dayofweek\n",
    "\n",
    "#index\n",
    "chat = chat.set_index(chat['datetime'])"
   ]
  },
  {
   "cell_type": "code",
   "execution_count": 4,
   "metadata": {
    "collapsed": false,
    "scrolled": true
   },
   "outputs": [
    {
     "data": {
      "text/html": [
       "<div>\n",
       "<table border=\"1\" class=\"dataframe\">\n",
       "  <thead>\n",
       "    <tr style=\"text-align: right;\">\n",
       "      <th></th>\n",
       "      <th>datetime</th>\n",
       "      <th>username</th>\n",
       "      <th>message</th>\n",
       "      <th>date</th>\n",
       "      <th>time</th>\n",
       "      <th>weekday</th>\n",
       "    </tr>\n",
       "    <tr>\n",
       "      <th>datetime</th>\n",
       "      <th></th>\n",
       "      <th></th>\n",
       "      <th></th>\n",
       "      <th></th>\n",
       "      <th></th>\n",
       "      <th></th>\n",
       "    </tr>\n",
       "  </thead>\n",
       "  <tbody>\n",
       "    <tr>\n",
       "      <th>2015-08-05 02:00:09</th>\n",
       "      <td>2015-08-05 02:00:09</td>\n",
       "      <td>tadloss</td>\n",
       "      <td>!sendeplan</td>\n",
       "      <td>2015-08-05</td>\n",
       "      <td>02:00:09</td>\n",
       "      <td>2</td>\n",
       "    </tr>\n",
       "    <tr>\n",
       "      <th>2015-08-05 02:00:09</th>\n",
       "      <td>2015-08-05 02:00:09</td>\n",
       "      <td>moobot</td>\n",
       "      <td>Angaben zum aktuellen Programm findet Ihr: Auf...</td>\n",
       "      <td>2015-08-05</td>\n",
       "      <td>02:00:09</td>\n",
       "      <td>2</td>\n",
       "    </tr>\n",
       "    <tr>\n",
       "      <th>2015-08-05 02:00:10</th>\n",
       "      <td>2015-08-05 02:00:10</td>\n",
       "      <td>dersendeplan</td>\n",
       "      <td>@tadloss (01:00) Blue Estate &gt;&gt; (02:30) Darkes...</td>\n",
       "      <td>2015-08-05</td>\n",
       "      <td>02:00:10</td>\n",
       "      <td>2</td>\n",
       "    </tr>\n",
       "    <tr>\n",
       "      <th>2015-08-05 02:00:17</th>\n",
       "      <td>2015-08-05 02:00:17</td>\n",
       "      <td>dedalos_stormbring</td>\n",
       "      <td>@Gunvolf, Brav. Kappa</td>\n",
       "      <td>2015-08-05</td>\n",
       "      <td>02:00:17</td>\n",
       "      <td>2</td>\n",
       "    </tr>\n",
       "    <tr>\n",
       "      <th>2015-08-05 02:00:18</th>\n",
       "      <td>2015-08-05 02:00:18</td>\n",
       "      <td>unclesreefermadness</td>\n",
       "      <td>ist da nicht schmatzen gäng und ein kompliment</td>\n",
       "      <td>2015-08-05</td>\n",
       "      <td>02:00:18</td>\n",
       "      <td>2</td>\n",
       "    </tr>\n",
       "  </tbody>\n",
       "</table>\n",
       "</div>"
      ],
      "text/plain": [
       "                               datetime             username  \\\n",
       "datetime                                                       \n",
       "2015-08-05 02:00:09 2015-08-05 02:00:09              tadloss   \n",
       "2015-08-05 02:00:09 2015-08-05 02:00:09               moobot   \n",
       "2015-08-05 02:00:10 2015-08-05 02:00:10         dersendeplan   \n",
       "2015-08-05 02:00:17 2015-08-05 02:00:17   dedalos_stormbring   \n",
       "2015-08-05 02:00:18 2015-08-05 02:00:18  unclesreefermadness   \n",
       "\n",
       "                                                               message  \\\n",
       "datetime                                                                 \n",
       "2015-08-05 02:00:09                                         !sendeplan   \n",
       "2015-08-05 02:00:09  Angaben zum aktuellen Programm findet Ihr: Auf...   \n",
       "2015-08-05 02:00:10  @tadloss (01:00) Blue Estate >> (02:30) Darkes...   \n",
       "2015-08-05 02:00:17                              @Gunvolf, Brav. Kappa   \n",
       "2015-08-05 02:00:18     ist da nicht schmatzen gäng und ein kompliment   \n",
       "\n",
       "                           date      time  weekday  \n",
       "datetime                                            \n",
       "2015-08-05 02:00:09  2015-08-05  02:00:09        2  \n",
       "2015-08-05 02:00:09  2015-08-05  02:00:09        2  \n",
       "2015-08-05 02:00:10  2015-08-05  02:00:10        2  \n",
       "2015-08-05 02:00:17  2015-08-05  02:00:17        2  \n",
       "2015-08-05 02:00:18  2015-08-05  02:00:18        2  "
      ]
     },
     "execution_count": 4,
     "metadata": {},
     "output_type": "execute_result"
    }
   ],
   "source": [
    "chat.head()"
   ]
  },
  {
   "cell_type": "code",
   "execution_count": 5,
   "metadata": {
    "collapsed": false
   },
   "outputs": [
    {
     "data": {
      "text/html": [
       "<div>\n",
       "<table border=\"1\" class=\"dataframe\">\n",
       "  <thead>\n",
       "    <tr style=\"text-align: right;\">\n",
       "      <th></th>\n",
       "      <th>datetime</th>\n",
       "      <th>username</th>\n",
       "      <th>message</th>\n",
       "      <th>date</th>\n",
       "      <th>time</th>\n",
       "      <th>weekday</th>\n",
       "    </tr>\n",
       "    <tr>\n",
       "      <th>datetime</th>\n",
       "      <th></th>\n",
       "      <th></th>\n",
       "      <th></th>\n",
       "      <th></th>\n",
       "      <th></th>\n",
       "      <th></th>\n",
       "    </tr>\n",
       "  </thead>\n",
       "  <tbody>\n",
       "    <tr>\n",
       "      <th>2016-09-24 01:00:46</th>\n",
       "      <td>2016-09-24 01:00:46</td>\n",
       "      <td>+Louis Rößler</td>\n",
       "      <td>falsches auge?</td>\n",
       "      <td>2016-09-24</td>\n",
       "      <td>01:00:46</td>\n",
       "      <td>5</td>\n",
       "    </tr>\n",
       "    <tr>\n",
       "      <th>2016-09-24 01:00:47</th>\n",
       "      <td>2016-09-24 01:00:47</td>\n",
       "      <td>Batogash1</td>\n",
       "      <td>XD joke</td>\n",
       "      <td>2016-09-24</td>\n",
       "      <td>01:00:47</td>\n",
       "      <td>5</td>\n",
       "    </tr>\n",
       "    <tr>\n",
       "      <th>2016-09-24 01:00:48</th>\n",
       "      <td>2016-09-24 01:00:48</td>\n",
       "      <td>Pascal Bartholomäus</td>\n",
       "      <td>zockt er eigentlich auch die DLC's?</td>\n",
       "      <td>2016-09-24</td>\n",
       "      <td>01:00:48</td>\n",
       "      <td>5</td>\n",
       "    </tr>\n",
       "    <tr>\n",
       "      <th>2016-09-24 01:00:50</th>\n",
       "      <td>2016-09-24 01:00:50</td>\n",
       "      <td>mkd1r</td>\n",
       "      <td>erst ma zurückspuln</td>\n",
       "      <td>2016-09-24</td>\n",
       "      <td>01:00:50</td>\n",
       "      <td>5</td>\n",
       "    </tr>\n",
       "    <tr>\n",
       "      <th>2016-09-24 01:00:50</th>\n",
       "      <td>2016-09-24 01:00:50</td>\n",
       "      <td>Faloters Hammer</td>\n",
       "      <td>was ist das für 1 ende</td>\n",
       "      <td>2016-09-24</td>\n",
       "      <td>01:00:50</td>\n",
       "      <td>5</td>\n",
       "    </tr>\n",
       "  </tbody>\n",
       "</table>\n",
       "</div>"
      ],
      "text/plain": [
       "                               datetime             username  \\\n",
       "datetime                                                       \n",
       "2016-09-24 01:00:46 2016-09-24 01:00:46        +Louis Rößler   \n",
       "2016-09-24 01:00:47 2016-09-24 01:00:47            Batogash1   \n",
       "2016-09-24 01:00:48 2016-09-24 01:00:48  Pascal Bartholomäus   \n",
       "2016-09-24 01:00:50 2016-09-24 01:00:50                mkd1r   \n",
       "2016-09-24 01:00:50 2016-09-24 01:00:50      Faloters Hammer   \n",
       "\n",
       "                                                 message        date  \\\n",
       "datetime                                                               \n",
       "2016-09-24 01:00:46                       falsches auge?  2016-09-24   \n",
       "2016-09-24 01:00:47                              XD joke  2016-09-24   \n",
       "2016-09-24 01:00:48  zockt er eigentlich auch die DLC's?  2016-09-24   \n",
       "2016-09-24 01:00:50                  erst ma zurückspuln  2016-09-24   \n",
       "2016-09-24 01:00:50               was ist das für 1 ende  2016-09-24   \n",
       "\n",
       "                         time  weekday  \n",
       "datetime                                \n",
       "2016-09-24 01:00:46  01:00:46        5  \n",
       "2016-09-24 01:00:47  01:00:47        5  \n",
       "2016-09-24 01:00:48  01:00:48        5  \n",
       "2016-09-24 01:00:50  01:00:50        5  \n",
       "2016-09-24 01:00:50  01:00:50        5  "
      ]
     },
     "execution_count": 5,
     "metadata": {},
     "output_type": "execute_result"
    }
   ],
   "source": [
    "chat.tail()"
   ]
  },
  {
   "cell_type": "code",
   "execution_count": 6,
   "metadata": {
    "collapsed": false,
    "scrolled": false
   },
   "outputs": [],
   "source": [
    "#prepare chat message data\n",
    "chatFiltered = chat\n",
    "\n",
    "#filter messages by time\n",
    "start = datetime.time(20, 15, 0)\n",
    "end = datetime.time(22, 0, 0)\n",
    "chatFiltered = chatFiltered.between_time(start, end)\n",
    "\n",
    "#filter messages containing `!cd`\n",
    "chatFiltered = chatFiltered[chatFiltered['message'].str.contains('!cd')]\n",
    "\n",
    "#filter meassages by weekday\n",
    "chatFiltered = chatFiltered[chatFiltered['weekday'] == 1]\n",
    "\n",
    "#group messages by date\n",
    "chatGrouped = chatFiltered.groupby('date')\n",
    "\n",
    "#filter groups by count threshold\n",
    "chatGrouped = chatGrouped.filter(lambda group: len(group) > 2000)\n",
    "\n",
    "#group messages by date\n",
    "chatGrouped = chatGrouped.groupby('date')\n",
    "\n",
    "#count (unique) users\n",
    "chatParticipants = chatGrouped.agg({'username': pd.Series.nunique})\n",
    "chatParticipants.columns = ['participants']"
   ]
  },
  {
   "cell_type": "markdown",
   "metadata": {},
   "source": [
    "## Live Data\n",
    "___"
   ]
  },
  {
   "cell_type": "code",
   "execution_count": 7,
   "metadata": {
    "collapsed": false
   },
   "outputs": [],
   "source": [
    "#live dataframe\n",
    "columns = ['datetime', 'viewers']\n",
    "live = pd.DataFrame({}, columns=columns)\n",
    "\n",
    "#read live files\n",
    "liveTmp = []\n",
    "files = sorted(os.listdir(LIVE_DATA_DIRECTORY))\n",
    "for filename in files:\n",
    "    if filename.endswith('.csv'):\n",
    "        filepath = os.path.join(LIVE_DATA_DIRECTORY, filename)\n",
    "        \n",
    "        #read file\n",
    "        openfile = open(filepath)\n",
    "        rawData = openfile.read()\n",
    "        openfile.close()\n",
    "        \n",
    "        #process each datapoint\n",
    "        splitRawData = rawData.split('\\n')\n",
    "        datapoints = []\n",
    "        for line in splitRawData:\n",
    "            split = line.split(',')\n",
    "            if len(split) == 2:\n",
    "                timestamp = split[0]\n",
    "                viewers = int(split[1])\n",
    "                datetimeObj = datetime.datetime.fromtimestamp(int(timestamp))\n",
    "                datapoints.append((datetimeObj, viewers))\n",
    "        \n",
    "        live = live.append(pd.DataFrame(datapoints, columns=columns))\n",
    "\n",
    "#sort data\n",
    "live = live.sort_values(['datetime'], ascending=[True])\n",
    "\n",
    "#index\n",
    "live = live.set_index(live['datetime'])"
   ]
  },
  {
   "cell_type": "code",
   "execution_count": 8,
   "metadata": {
    "collapsed": false
   },
   "outputs": [
    {
     "data": {
      "text/html": [
       "<div>\n",
       "<table border=\"1\" class=\"dataframe\">\n",
       "  <thead>\n",
       "    <tr style=\"text-align: right;\">\n",
       "      <th></th>\n",
       "      <th>datetime</th>\n",
       "      <th>viewers</th>\n",
       "    </tr>\n",
       "    <tr>\n",
       "      <th>datetime</th>\n",
       "      <th></th>\n",
       "      <th></th>\n",
       "    </tr>\n",
       "  </thead>\n",
       "  <tbody>\n",
       "    <tr>\n",
       "      <th>2015-01-15 18:37:02</th>\n",
       "      <td>2015-01-15 18:37:02</td>\n",
       "      <td>757.0</td>\n",
       "    </tr>\n",
       "    <tr>\n",
       "      <th>2015-01-15 18:37:47</th>\n",
       "      <td>2015-01-15 18:37:47</td>\n",
       "      <td>757.0</td>\n",
       "    </tr>\n",
       "    <tr>\n",
       "      <th>2015-01-15 18:37:50</th>\n",
       "      <td>2015-01-15 18:37:50</td>\n",
       "      <td>757.0</td>\n",
       "    </tr>\n",
       "    <tr>\n",
       "      <th>2015-01-15 18:37:52</th>\n",
       "      <td>2015-01-15 18:37:52</td>\n",
       "      <td>757.0</td>\n",
       "    </tr>\n",
       "    <tr>\n",
       "      <th>2015-01-15 18:37:54</th>\n",
       "      <td>2015-01-15 18:37:54</td>\n",
       "      <td>757.0</td>\n",
       "    </tr>\n",
       "  </tbody>\n",
       "</table>\n",
       "</div>"
      ],
      "text/plain": [
       "                               datetime  viewers\n",
       "datetime                                        \n",
       "2015-01-15 18:37:02 2015-01-15 18:37:02    757.0\n",
       "2015-01-15 18:37:47 2015-01-15 18:37:47    757.0\n",
       "2015-01-15 18:37:50 2015-01-15 18:37:50    757.0\n",
       "2015-01-15 18:37:52 2015-01-15 18:37:52    757.0\n",
       "2015-01-15 18:37:54 2015-01-15 18:37:54    757.0"
      ]
     },
     "execution_count": 8,
     "metadata": {},
     "output_type": "execute_result"
    }
   ],
   "source": [
    "live.head()"
   ]
  },
  {
   "cell_type": "code",
   "execution_count": 9,
   "metadata": {
    "collapsed": false
   },
   "outputs": [
    {
     "data": {
      "text/html": [
       "<div>\n",
       "<table border=\"1\" class=\"dataframe\">\n",
       "  <thead>\n",
       "    <tr style=\"text-align: right;\">\n",
       "      <th></th>\n",
       "      <th>datetime</th>\n",
       "      <th>viewers</th>\n",
       "    </tr>\n",
       "    <tr>\n",
       "      <th>datetime</th>\n",
       "      <th></th>\n",
       "      <th></th>\n",
       "    </tr>\n",
       "  </thead>\n",
       "  <tbody>\n",
       "    <tr>\n",
       "      <th>2016-09-24 00:56:03</th>\n",
       "      <td>2016-09-24 00:56:03</td>\n",
       "      <td>2046.0</td>\n",
       "    </tr>\n",
       "    <tr>\n",
       "      <th>2016-09-24 00:57:02</th>\n",
       "      <td>2016-09-24 00:57:02</td>\n",
       "      <td>2053.0</td>\n",
       "    </tr>\n",
       "    <tr>\n",
       "      <th>2016-09-24 00:58:03</th>\n",
       "      <td>2016-09-24 00:58:03</td>\n",
       "      <td>2057.0</td>\n",
       "    </tr>\n",
       "    <tr>\n",
       "      <th>2016-09-24 00:59:02</th>\n",
       "      <td>2016-09-24 00:59:02</td>\n",
       "      <td>2049.0</td>\n",
       "    </tr>\n",
       "    <tr>\n",
       "      <th>2016-09-24 01:00:03</th>\n",
       "      <td>2016-09-24 01:00:03</td>\n",
       "      <td>2043.0</td>\n",
       "    </tr>\n",
       "  </tbody>\n",
       "</table>\n",
       "</div>"
      ],
      "text/plain": [
       "                               datetime  viewers\n",
       "datetime                                        \n",
       "2016-09-24 00:56:03 2016-09-24 00:56:03   2046.0\n",
       "2016-09-24 00:57:02 2016-09-24 00:57:02   2053.0\n",
       "2016-09-24 00:58:03 2016-09-24 00:58:03   2057.0\n",
       "2016-09-24 00:59:02 2016-09-24 00:59:02   2049.0\n",
       "2016-09-24 01:00:03 2016-09-24 01:00:03   2043.0"
      ]
     },
     "execution_count": 9,
     "metadata": {},
     "output_type": "execute_result"
    }
   ],
   "source": [
    "live.tail()"
   ]
  },
  {
   "cell_type": "code",
   "execution_count": 10,
   "metadata": {
    "collapsed": false
   },
   "outputs": [],
   "source": [
    "#prepare live viewer data\n",
    "liveMeanTmp = []\n",
    "for date, count in chatGrouped.size().iteritems():\n",
    "    start = datetime.datetime.combine(date, datetime.time(20, 15, 0))\n",
    "    end = datetime.datetime.combine(date, datetime.time(22, 0, 0))\n",
    "    viewers = live.loc[start : end]['viewers']\n",
    "    liveMeanTmp.append((date, int(viewers.mean())))\n",
    "\n",
    "#mean viewers dataframe\n",
    "columns = ['date', 'viewers']\n",
    "liveMean = pd.DataFrame(liveMeanTmp, columns=columns)\n",
    "\n",
    "#index\n",
    "liveMean = liveMean.set_index(liveMean['date'])\n",
    "liveMean.drop('date', axis=1, inplace=True)"
   ]
  },
  {
   "cell_type": "markdown",
   "metadata": {},
   "source": [
    "## Comparison\n",
    "___"
   ]
  },
  {
   "cell_type": "code",
   "execution_count": 11,
   "metadata": {
    "collapsed": false
   },
   "outputs": [
    {
     "data": {
      "text/html": [
       "<div>\n",
       "<table border=\"1\" class=\"dataframe\">\n",
       "  <thead>\n",
       "    <tr style=\"text-align: right;\">\n",
       "      <th></th>\n",
       "      <th>participants</th>\n",
       "      <th>viewers</th>\n",
       "      <th>ratio</th>\n",
       "    </tr>\n",
       "    <tr>\n",
       "      <th>date</th>\n",
       "      <th></th>\n",
       "      <th></th>\n",
       "      <th></th>\n",
       "    </tr>\n",
       "  </thead>\n",
       "  <tbody>\n",
       "    <tr>\n",
       "      <th>2015-12-01</th>\n",
       "      <td>8277</td>\n",
       "      <td>19607</td>\n",
       "      <td>42.214515</td>\n",
       "    </tr>\n",
       "    <tr>\n",
       "      <th>2015-12-08</th>\n",
       "      <td>7981</td>\n",
       "      <td>20263</td>\n",
       "      <td>39.387060</td>\n",
       "    </tr>\n",
       "    <tr>\n",
       "      <th>2015-12-15</th>\n",
       "      <td>5696</td>\n",
       "      <td>14203</td>\n",
       "      <td>40.104203</td>\n",
       "    </tr>\n",
       "    <tr>\n",
       "      <th>2015-12-22</th>\n",
       "      <td>6050</td>\n",
       "      <td>15241</td>\n",
       "      <td>39.695558</td>\n",
       "    </tr>\n",
       "    <tr>\n",
       "      <th>2016-01-12</th>\n",
       "      <td>7278</td>\n",
       "      <td>18344</td>\n",
       "      <td>39.675098</td>\n",
       "    </tr>\n",
       "    <tr>\n",
       "      <th>2016-01-19</th>\n",
       "      <td>6756</td>\n",
       "      <td>17279</td>\n",
       "      <td>39.099485</td>\n",
       "    </tr>\n",
       "    <tr>\n",
       "      <th>2016-02-02</th>\n",
       "      <td>6040</td>\n",
       "      <td>15976</td>\n",
       "      <td>37.806710</td>\n",
       "    </tr>\n",
       "    <tr>\n",
       "      <th>2016-02-09</th>\n",
       "      <td>11991</td>\n",
       "      <td>36257</td>\n",
       "      <td>33.072234</td>\n",
       "    </tr>\n",
       "    <tr>\n",
       "      <th>2016-02-16</th>\n",
       "      <td>5736</td>\n",
       "      <td>16178</td>\n",
       "      <td>35.455557</td>\n",
       "    </tr>\n",
       "    <tr>\n",
       "      <th>2016-02-23</th>\n",
       "      <td>6108</td>\n",
       "      <td>16863</td>\n",
       "      <td>36.221313</td>\n",
       "    </tr>\n",
       "    <tr>\n",
       "      <th>2016-03-01</th>\n",
       "      <td>11267</td>\n",
       "      <td>29712</td>\n",
       "      <td>37.920705</td>\n",
       "    </tr>\n",
       "    <tr>\n",
       "      <th>2016-03-08</th>\n",
       "      <td>5833</td>\n",
       "      <td>15518</td>\n",
       "      <td>37.588607</td>\n",
       "    </tr>\n",
       "    <tr>\n",
       "      <th>2016-03-15</th>\n",
       "      <td>5605</td>\n",
       "      <td>17072</td>\n",
       "      <td>32.831537</td>\n",
       "    </tr>\n",
       "    <tr>\n",
       "      <th>2016-06-28</th>\n",
       "      <td>4468</td>\n",
       "      <td>15738</td>\n",
       "      <td>28.389884</td>\n",
       "    </tr>\n",
       "    <tr>\n",
       "      <th>2016-07-12</th>\n",
       "      <td>3519</td>\n",
       "      <td>12291</td>\n",
       "      <td>28.630705</td>\n",
       "    </tr>\n",
       "    <tr>\n",
       "      <th>2016-07-19</th>\n",
       "      <td>2750</td>\n",
       "      <td>11540</td>\n",
       "      <td>23.830156</td>\n",
       "    </tr>\n",
       "    <tr>\n",
       "      <th>2016-07-26</th>\n",
       "      <td>3656</td>\n",
       "      <td>12061</td>\n",
       "      <td>30.312578</td>\n",
       "    </tr>\n",
       "    <tr>\n",
       "      <th>2016-08-02</th>\n",
       "      <td>3054</td>\n",
       "      <td>11164</td>\n",
       "      <td>27.355786</td>\n",
       "    </tr>\n",
       "    <tr>\n",
       "      <th>2016-08-09</th>\n",
       "      <td>3010</td>\n",
       "      <td>12126</td>\n",
       "      <td>24.822695</td>\n",
       "    </tr>\n",
       "    <tr>\n",
       "      <th>2016-08-23</th>\n",
       "      <td>3019</td>\n",
       "      <td>12144</td>\n",
       "      <td>24.860013</td>\n",
       "    </tr>\n",
       "    <tr>\n",
       "      <th>2016-08-30</th>\n",
       "      <td>2745</td>\n",
       "      <td>10884</td>\n",
       "      <td>25.220507</td>\n",
       "    </tr>\n",
       "    <tr>\n",
       "      <th>2016-09-13</th>\n",
       "      <td>2385</td>\n",
       "      <td>8603</td>\n",
       "      <td>27.722887</td>\n",
       "    </tr>\n",
       "    <tr>\n",
       "      <th>2016-09-20</th>\n",
       "      <td>1928</td>\n",
       "      <td>7612</td>\n",
       "      <td>25.328429</td>\n",
       "    </tr>\n",
       "  </tbody>\n",
       "</table>\n",
       "</div>"
      ],
      "text/plain": [
       "            participants  viewers      ratio\n",
       "date                                        \n",
       "2015-12-01          8277    19607  42.214515\n",
       "2015-12-08          7981    20263  39.387060\n",
       "2015-12-15          5696    14203  40.104203\n",
       "2015-12-22          6050    15241  39.695558\n",
       "2016-01-12          7278    18344  39.675098\n",
       "2016-01-19          6756    17279  39.099485\n",
       "2016-02-02          6040    15976  37.806710\n",
       "2016-02-09         11991    36257  33.072234\n",
       "2016-02-16          5736    16178  35.455557\n",
       "2016-02-23          6108    16863  36.221313\n",
       "2016-03-01         11267    29712  37.920705\n",
       "2016-03-08          5833    15518  37.588607\n",
       "2016-03-15          5605    17072  32.831537\n",
       "2016-06-28          4468    15738  28.389884\n",
       "2016-07-12          3519    12291  28.630705\n",
       "2016-07-19          2750    11540  23.830156\n",
       "2016-07-26          3656    12061  30.312578\n",
       "2016-08-02          3054    11164  27.355786\n",
       "2016-08-09          3010    12126  24.822695\n",
       "2016-08-23          3019    12144  24.860013\n",
       "2016-08-30          2745    10884  25.220507\n",
       "2016-09-13          2385     8603  27.722887\n",
       "2016-09-20          1928     7612  25.328429"
      ]
     },
     "execution_count": 11,
     "metadata": {},
     "output_type": "execute_result"
    }
   ],
   "source": [
    "#join data\n",
    "joinedData = chatParticipants.join(liveMean)\n",
    "\n",
    "#participants/viewers ratio\n",
    "joinedData['ratio'] = 100 * joinedData['participants'] / joinedData['viewers']\n",
    "\n",
    "joinedData"
   ]
  },
  {
   "cell_type": "code",
   "execution_count": 12,
   "metadata": {
    "collapsed": false
   },
   "outputs": [
    {
     "data": {
      "text/plain": [
       "<matplotlib.axes._subplots.AxesSubplot at 0x7f315edeb9d0>"
      ]
     },
     "execution_count": 12,
     "metadata": {},
     "output_type": "execute_result"
    },
    {
     "data": {
      "image/png": "[encoded data removed]",
      "text/plain": [
       "<matplotlib.figure.Figure at 0x7f2ffe3f1190>"
      ]
     },
     "metadata": {},
     "output_type": "display_data"
    }
   ],
   "source": [
    "plot = joinedData[['participants', 'viewers']].plot(kind='bar', figsize=(10, 6), legend=False, title='Anzahl Teilnehmer und Zuschauer')\n",
    "plot.set_xlabel('Datum')\n",
    "plot.set_ylabel('Anzahl')\n",
    "\n",
    "legend = plot.legend(loc=2)\n",
    "legend.get_texts()[0].set_text('Teilnehmer')\n",
    "legend.get_texts()[1].set_text('Zuschauer')\n",
    "\n",
    "plot"
   ]
  },
  {
   "cell_type": "code",
   "execution_count": 13,
   "metadata": {
    "collapsed": false
   },
   "outputs": [
    {
     "data": {
      "text/plain": [
       "<matplotlib.axes._subplots.AxesSubplot at 0x7f2ff296ed90>"
      ]
     },
     "execution_count": 13,
     "metadata": {},
     "output_type": "execute_result"
    },
    {
     "data": {
      "image/png": "[encoded data removed]",
      "text/plain": [
       "<matplotlib.figure.Figure at 0x7f2ffe3f1ed0>"
      ]
     },
     "metadata": {},
     "output_type": "display_data"
    }
   ],
   "source": [
    "plot = joinedData['ratio'].plot(kind='bar', figsize=(10, 6), legend=False, title='Teilnehmer Anteil')\n",
    "plot.set_xlabel('Datum')\n",
    "plot.set_ylabel('Prozent (%)')\n",
    "\n",
    "plt.ylim(ymin=0)\n",
    "\n",
    "plot"
   ]
  }
 ],
 "metadata": {
  "kernelspec": {
   "display_name": "Python 2",
   "language": "python",
   "name": "python2"
  },
  "language_info": {
   "codemirror_mode": {
    "name": "ipython",
    "version": 2
   },
   "file_extension": ".py",
   "mimetype": "text/x-python",
   "name": "python",
   "nbconvert_exporter": "python",
   "pygments_lexer": "ipython2",
   "version": "2.7.12"
  }
 },
 "nbformat": 4,
 "nbformat_minor": 1
}
