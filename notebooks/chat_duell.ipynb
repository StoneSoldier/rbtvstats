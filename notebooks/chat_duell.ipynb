{
 "cells": [
  {
   "cell_type": "markdown",
   "metadata": {
    "collapsed": false
   },
   "source": [
    "# Chat Duell\n",
    "___"
   ]
  },
  {
   "cell_type": "code",
   "execution_count": 1,
   "metadata": {
    "collapsed": true
   },
   "outputs": [],
   "source": [
    "from __future__ import unicode_literals\n",
    "import pandas as pd\n",
    "import matplotlib\n",
    "import matplotlib.pyplot as plt\n",
    "import sys\n",
    "import datetime\n",
    "import common.chat\n",
    "import common.live"
   ]
  },
  {
   "cell_type": "code",
   "execution_count": 2,
   "metadata": {
    "collapsed": false
   },
   "outputs": [],
   "source": [
    "#config\n",
    "reload(sys)\n",
    "sys.setdefaultencoding('utf-8')\n",
    "matplotlib.style.use('ggplot')\n",
    "%matplotlib inline\n",
    "\n",
    "#constants\n",
    "CHAT_DATA_DIRECTORY = '/home/marcel/Development/rbtvdata/chat'\n",
    "LIVE_DATA_DIRECTORY = '/home/marcel/Development/rbtvdata/live'"
   ]
  },
  {
   "cell_type": "markdown",
   "metadata": {},
   "source": [
    "## Chat Daten\n",
    "___"
   ]
  },
  {
   "cell_type": "code",
   "execution_count": 3,
   "metadata": {
    "collapsed": false
   },
   "outputs": [],
   "source": [
    "#load chat data\n",
    "chat = common.chat.load(CHAT_DATA_DIRECTORY)\n",
    "\n",
    "#create additional columns\n",
    "chat['date'] = chat.index.date\n",
    "chat['time'] = chat.index.time\n",
    "chat['weekday'] = chat.index.dayofweek"
   ]
  },
  {
   "cell_type": "code",
   "execution_count": 4,
   "metadata": {
    "collapsed": false,
    "scrolled": true
   },
   "outputs": [
    {
     "data": {
      "text/html": [
       "<div>\n",
       "<table border=\"1\" class=\"dataframe\">\n",
       "  <thead>\n",
       "    <tr style=\"text-align: right;\">\n",
       "      <th></th>\n",
       "      <th>username</th>\n",
       "      <th>message</th>\n",
       "      <th>date</th>\n",
       "      <th>time</th>\n",
       "      <th>weekday</th>\n",
       "    </tr>\n",
       "    <tr>\n",
       "      <th>datetime</th>\n",
       "      <th></th>\n",
       "      <th></th>\n",
       "      <th></th>\n",
       "      <th></th>\n",
       "      <th></th>\n",
       "    </tr>\n",
       "  </thead>\n",
       "  <tbody>\n",
       "    <tr>\n",
       "      <th>2015-08-05 02:00:09</th>\n",
       "      <td>tadloss</td>\n",
       "      <td>!sendeplan</td>\n",
       "      <td>2015-08-05</td>\n",
       "      <td>02:00:09</td>\n",
       "      <td>2</td>\n",
       "    </tr>\n",
       "    <tr>\n",
       "      <th>2015-08-05 02:00:09</th>\n",
       "      <td>moobot</td>\n",
       "      <td>Angaben zum aktuellen Programm findet Ihr: Auf...</td>\n",
       "      <td>2015-08-05</td>\n",
       "      <td>02:00:09</td>\n",
       "      <td>2</td>\n",
       "    </tr>\n",
       "    <tr>\n",
       "      <th>2015-08-05 02:00:10</th>\n",
       "      <td>dersendeplan</td>\n",
       "      <td>@tadloss (01:00) Blue Estate &gt;&gt; (02:30) Darkes...</td>\n",
       "      <td>2015-08-05</td>\n",
       "      <td>02:00:10</td>\n",
       "      <td>2</td>\n",
       "    </tr>\n",
       "    <tr>\n",
       "      <th>2015-08-05 02:00:17</th>\n",
       "      <td>dedalos_stormbring</td>\n",
       "      <td>@Gunvolf, Brav. Kappa</td>\n",
       "      <td>2015-08-05</td>\n",
       "      <td>02:00:17</td>\n",
       "      <td>2</td>\n",
       "    </tr>\n",
       "    <tr>\n",
       "      <th>2015-08-05 02:00:18</th>\n",
       "      <td>unclesreefermadness</td>\n",
       "      <td>ist da nicht schmatzen gäng und ein kompliment</td>\n",
       "      <td>2015-08-05</td>\n",
       "      <td>02:00:18</td>\n",
       "      <td>2</td>\n",
       "    </tr>\n",
       "  </tbody>\n",
       "</table>\n",
       "</div>"
      ],
      "text/plain": [
       "                                username  \\\n",
       "datetime                                   \n",
       "2015-08-05 02:00:09              tadloss   \n",
       "2015-08-05 02:00:09               moobot   \n",
       "2015-08-05 02:00:10         dersendeplan   \n",
       "2015-08-05 02:00:17   dedalos_stormbring   \n",
       "2015-08-05 02:00:18  unclesreefermadness   \n",
       "\n",
       "                                                               message  \\\n",
       "datetime                                                                 \n",
       "2015-08-05 02:00:09                                         !sendeplan   \n",
       "2015-08-05 02:00:09  Angaben zum aktuellen Programm findet Ihr: Auf...   \n",
       "2015-08-05 02:00:10  @tadloss (01:00) Blue Estate >> (02:30) Darkes...   \n",
       "2015-08-05 02:00:17                              @Gunvolf, Brav. Kappa   \n",
       "2015-08-05 02:00:18     ist da nicht schmatzen gäng und ein kompliment   \n",
       "\n",
       "                           date      time  weekday  \n",
       "datetime                                            \n",
       "2015-08-05 02:00:09  2015-08-05  02:00:09        2  \n",
       "2015-08-05 02:00:09  2015-08-05  02:00:09        2  \n",
       "2015-08-05 02:00:10  2015-08-05  02:00:10        2  \n",
       "2015-08-05 02:00:17  2015-08-05  02:00:17        2  \n",
       "2015-08-05 02:00:18  2015-08-05  02:00:18        2  "
      ]
     },
     "execution_count": 4,
     "metadata": {},
     "output_type": "execute_result"
    }
   ],
   "source": [
    "chat.head()"
   ]
  },
  {
   "cell_type": "code",
   "execution_count": 5,
   "metadata": {
    "collapsed": false
   },
   "outputs": [
    {
     "data": {
      "text/html": [
       "<div>\n",
       "<table border=\"1\" class=\"dataframe\">\n",
       "  <thead>\n",
       "    <tr style=\"text-align: right;\">\n",
       "      <th></th>\n",
       "      <th>username</th>\n",
       "      <th>message</th>\n",
       "      <th>date</th>\n",
       "      <th>time</th>\n",
       "      <th>weekday</th>\n",
       "    </tr>\n",
       "    <tr>\n",
       "      <th>datetime</th>\n",
       "      <th></th>\n",
       "      <th></th>\n",
       "      <th></th>\n",
       "      <th></th>\n",
       "      <th></th>\n",
       "    </tr>\n",
       "  </thead>\n",
       "  <tbody>\n",
       "    <tr>\n",
       "      <th>2016-09-25 20:00:40</th>\n",
       "      <td>Roebyte</td>\n",
       "      <td>Andi Möller Rip 😞</td>\n",
       "      <td>2016-09-25</td>\n",
       "      <td>20:00:40</td>\n",
       "      <td>6</td>\n",
       "    </tr>\n",
       "    <tr>\n",
       "      <th>2016-09-25 20:00:41</th>\n",
       "      <td>Pablo Corleone</td>\n",
       "      <td>trant</td>\n",
       "      <td>2016-09-25</td>\n",
       "      <td>20:00:41</td>\n",
       "      <td>6</td>\n",
       "    </tr>\n",
       "    <tr>\n",
       "      <th>2016-09-25 20:00:42</th>\n",
       "      <td>+Hasenpriester</td>\n",
       "      <td>Is das Berlin beim Alex um de Ecke wo er da si...</td>\n",
       "      <td>2016-09-25</td>\n",
       "      <td>20:00:42</td>\n",
       "      <td>6</td>\n",
       "    </tr>\n",
       "    <tr>\n",
       "      <th>2016-09-25 20:00:45</th>\n",
       "      <td>DannyTheKidd</td>\n",
       "      <td>jaja hihi xD</td>\n",
       "      <td>2016-09-25</td>\n",
       "      <td>20:00:45</td>\n",
       "      <td>6</td>\n",
       "    </tr>\n",
       "    <tr>\n",
       "      <th>2016-09-25 20:00:48</th>\n",
       "      <td>+b34v13s</td>\n",
       "      <td>Aber Andy Möller ist doch gar nicht tot....</td>\n",
       "      <td>2016-09-25</td>\n",
       "      <td>20:00:48</td>\n",
       "      <td>6</td>\n",
       "    </tr>\n",
       "  </tbody>\n",
       "</table>\n",
       "</div>"
      ],
      "text/plain": [
       "                           username  \\\n",
       "datetime                              \n",
       "2016-09-25 20:00:40         Roebyte   \n",
       "2016-09-25 20:00:41  Pablo Corleone   \n",
       "2016-09-25 20:00:42  +Hasenpriester   \n",
       "2016-09-25 20:00:45    DannyTheKidd   \n",
       "2016-09-25 20:00:48        +b34v13s   \n",
       "\n",
       "                                                               message  \\\n",
       "datetime                                                                 \n",
       "2016-09-25 20:00:40                                  Andi Möller Rip 😞   \n",
       "2016-09-25 20:00:41                                              trant   \n",
       "2016-09-25 20:00:42  Is das Berlin beim Alex um de Ecke wo er da si...   \n",
       "2016-09-25 20:00:45                                       jaja hihi xD   \n",
       "2016-09-25 20:00:48        Aber Andy Möller ist doch gar nicht tot....   \n",
       "\n",
       "                           date      time  weekday  \n",
       "datetime                                            \n",
       "2016-09-25 20:00:40  2016-09-25  20:00:40        6  \n",
       "2016-09-25 20:00:41  2016-09-25  20:00:41        6  \n",
       "2016-09-25 20:00:42  2016-09-25  20:00:42        6  \n",
       "2016-09-25 20:00:45  2016-09-25  20:00:45        6  \n",
       "2016-09-25 20:00:48  2016-09-25  20:00:48        6  "
      ]
     },
     "execution_count": 5,
     "metadata": {},
     "output_type": "execute_result"
    }
   ],
   "source": [
    "chat.tail()"
   ]
  },
  {
   "cell_type": "code",
   "execution_count": 6,
   "metadata": {
    "collapsed": false,
    "scrolled": false
   },
   "outputs": [],
   "source": [
    "#filter chat data by time\n",
    "start = datetime.time(20, 15, 0)\n",
    "end = datetime.time(22, 0, 0)\n",
    "chatFiltered = chat.between_time(start, end)\n",
    "\n",
    "#filter chat data by messages containing `!cd`\n",
    "chatFiltered = chatFiltered[chatFiltered['message'].str.contains('!cd')]\n",
    "\n",
    "#filter chat data by weekday\n",
    "chatFiltered = chatFiltered[chatFiltered['weekday'] == 1]\n",
    "\n",
    "#group chat data by date\n",
    "chatGrouped = chatFiltered.groupby('date')\n",
    "\n",
    "#filter groups by count threshold\n",
    "chatGrouped = chatGrouped.filter(lambda group: len(group) > 2000)\n",
    "\n",
    "#group chat data by date\n",
    "chatGrouped = chatGrouped.groupby('date')\n",
    "\n",
    "#count unique users\n",
    "chatParticipants = chatGrouped.agg({'username': pd.Series.nunique})\n",
    "chatParticipants.columns = ['participants']"
   ]
  },
  {
   "cell_type": "markdown",
   "metadata": {},
   "source": [
    "## Live Daten\n",
    "___"
   ]
  },
  {
   "cell_type": "code",
   "execution_count": 7,
   "metadata": {
    "collapsed": false
   },
   "outputs": [],
   "source": [
    "#load live data\n",
    "live = common.live.load(LIVE_DATA_DIRECTORY)"
   ]
  },
  {
   "cell_type": "code",
   "execution_count": 8,
   "metadata": {
    "collapsed": false
   },
   "outputs": [
    {
     "data": {
      "text/html": [
       "<div>\n",
       "<table border=\"1\" class=\"dataframe\">\n",
       "  <thead>\n",
       "    <tr style=\"text-align: right;\">\n",
       "      <th></th>\n",
       "      <th>viewers</th>\n",
       "    </tr>\n",
       "    <tr>\n",
       "      <th>datetime</th>\n",
       "      <th></th>\n",
       "    </tr>\n",
       "  </thead>\n",
       "  <tbody>\n",
       "    <tr>\n",
       "      <th>2015-01-15 18:37:00</th>\n",
       "      <td>757.000000</td>\n",
       "    </tr>\n",
       "    <tr>\n",
       "      <th>2015-01-15 18:38:00</th>\n",
       "      <td>2379.166667</td>\n",
       "    </tr>\n",
       "    <tr>\n",
       "      <th>2015-01-15 18:39:00</th>\n",
       "      <td>10490.000000</td>\n",
       "    </tr>\n",
       "    <tr>\n",
       "      <th>2015-01-15 18:40:00</th>\n",
       "      <td>13232.000000</td>\n",
       "    </tr>\n",
       "    <tr>\n",
       "      <th>2015-01-15 18:41:00</th>\n",
       "      <td>13232.000000</td>\n",
       "    </tr>\n",
       "  </tbody>\n",
       "</table>\n",
       "</div>"
      ],
      "text/plain": [
       "                          viewers\n",
       "datetime                         \n",
       "2015-01-15 18:37:00    757.000000\n",
       "2015-01-15 18:38:00   2379.166667\n",
       "2015-01-15 18:39:00  10490.000000\n",
       "2015-01-15 18:40:00  13232.000000\n",
       "2015-01-15 18:41:00  13232.000000"
      ]
     },
     "execution_count": 8,
     "metadata": {},
     "output_type": "execute_result"
    }
   ],
   "source": [
    "live.head()"
   ]
  },
  {
   "cell_type": "code",
   "execution_count": 9,
   "metadata": {
    "collapsed": false
   },
   "outputs": [
    {
     "data": {
      "text/html": [
       "<div>\n",
       "<table border=\"1\" class=\"dataframe\">\n",
       "  <thead>\n",
       "    <tr style=\"text-align: right;\">\n",
       "      <th></th>\n",
       "      <th>viewers</th>\n",
       "    </tr>\n",
       "    <tr>\n",
       "      <th>datetime</th>\n",
       "      <th></th>\n",
       "    </tr>\n",
       "  </thead>\n",
       "  <tbody>\n",
       "    <tr>\n",
       "      <th>2016-09-25 19:56:00</th>\n",
       "      <td>2910.0</td>\n",
       "    </tr>\n",
       "    <tr>\n",
       "      <th>2016-09-25 19:57:00</th>\n",
       "      <td>2957.0</td>\n",
       "    </tr>\n",
       "    <tr>\n",
       "      <th>2016-09-25 19:58:00</th>\n",
       "      <td>3000.0</td>\n",
       "    </tr>\n",
       "    <tr>\n",
       "      <th>2016-09-25 19:59:00</th>\n",
       "      <td>3037.0</td>\n",
       "    </tr>\n",
       "    <tr>\n",
       "      <th>2016-09-25 20:00:00</th>\n",
       "      <td>3068.0</td>\n",
       "    </tr>\n",
       "  </tbody>\n",
       "</table>\n",
       "</div>"
      ],
      "text/plain": [
       "                     viewers\n",
       "datetime                    \n",
       "2016-09-25 19:56:00   2910.0\n",
       "2016-09-25 19:57:00   2957.0\n",
       "2016-09-25 19:58:00   3000.0\n",
       "2016-09-25 19:59:00   3037.0\n",
       "2016-09-25 20:00:00   3068.0"
      ]
     },
     "execution_count": 9,
     "metadata": {},
     "output_type": "execute_result"
    }
   ],
   "source": [
    "live.tail()"
   ]
  },
  {
   "cell_type": "code",
   "execution_count": 10,
   "metadata": {
    "collapsed": false
   },
   "outputs": [
    {
     "data": {
      "text/html": [
       "<div>\n",
       "<table border=\"1\" class=\"dataframe\">\n",
       "  <thead>\n",
       "    <tr style=\"text-align: right;\">\n",
       "      <th></th>\n",
       "      <th>viewers</th>\n",
       "    </tr>\n",
       "    <tr>\n",
       "      <th>date</th>\n",
       "      <th></th>\n",
       "    </tr>\n",
       "  </thead>\n",
       "  <tbody>\n",
       "    <tr>\n",
       "      <th>2015-12-01</th>\n",
       "      <td>19536</td>\n",
       "    </tr>\n",
       "    <tr>\n",
       "      <th>2015-12-08</th>\n",
       "      <td>20222</td>\n",
       "    </tr>\n",
       "    <tr>\n",
       "      <th>2015-12-15</th>\n",
       "      <td>14152</td>\n",
       "    </tr>\n",
       "    <tr>\n",
       "      <th>2015-12-22</th>\n",
       "      <td>15197</td>\n",
       "    </tr>\n",
       "    <tr>\n",
       "      <th>2016-01-12</th>\n",
       "      <td>18277</td>\n",
       "    </tr>\n",
       "    <tr>\n",
       "      <th>2016-01-19</th>\n",
       "      <td>17225</td>\n",
       "    </tr>\n",
       "    <tr>\n",
       "      <th>2016-02-02</th>\n",
       "      <td>15669</td>\n",
       "    </tr>\n",
       "    <tr>\n",
       "      <th>2016-02-09</th>\n",
       "      <td>36155</td>\n",
       "    </tr>\n",
       "    <tr>\n",
       "      <th>2016-02-16</th>\n",
       "      <td>16123</td>\n",
       "    </tr>\n",
       "    <tr>\n",
       "      <th>2016-02-23</th>\n",
       "      <td>16819</td>\n",
       "    </tr>\n",
       "    <tr>\n",
       "      <th>2016-03-01</th>\n",
       "      <td>29588</td>\n",
       "    </tr>\n",
       "    <tr>\n",
       "      <th>2016-03-08</th>\n",
       "      <td>15515</td>\n",
       "    </tr>\n",
       "    <tr>\n",
       "      <th>2016-03-15</th>\n",
       "      <td>17055</td>\n",
       "    </tr>\n",
       "    <tr>\n",
       "      <th>2016-06-28</th>\n",
       "      <td>15704</td>\n",
       "    </tr>\n",
       "    <tr>\n",
       "      <th>2016-07-12</th>\n",
       "      <td>12250</td>\n",
       "    </tr>\n",
       "    <tr>\n",
       "      <th>2016-07-19</th>\n",
       "      <td>11487</td>\n",
       "    </tr>\n",
       "    <tr>\n",
       "      <th>2016-07-26</th>\n",
       "      <td>12000</td>\n",
       "    </tr>\n",
       "    <tr>\n",
       "      <th>2016-08-02</th>\n",
       "      <td>11111</td>\n",
       "    </tr>\n",
       "    <tr>\n",
       "      <th>2016-08-09</th>\n",
       "      <td>12117</td>\n",
       "    </tr>\n",
       "    <tr>\n",
       "      <th>2016-08-23</th>\n",
       "      <td>12147</td>\n",
       "    </tr>\n",
       "    <tr>\n",
       "      <th>2016-08-30</th>\n",
       "      <td>10868</td>\n",
       "    </tr>\n",
       "    <tr>\n",
       "      <th>2016-09-13</th>\n",
       "      <td>8583</td>\n",
       "    </tr>\n",
       "    <tr>\n",
       "      <th>2016-09-20</th>\n",
       "      <td>7599</td>\n",
       "    </tr>\n",
       "  </tbody>\n",
       "</table>\n",
       "</div>"
      ],
      "text/plain": [
       "            viewers\n",
       "date               \n",
       "2015-12-01    19536\n",
       "2015-12-08    20222\n",
       "2015-12-15    14152\n",
       "2015-12-22    15197\n",
       "2016-01-12    18277\n",
       "2016-01-19    17225\n",
       "2016-02-02    15669\n",
       "2016-02-09    36155\n",
       "2016-02-16    16123\n",
       "2016-02-23    16819\n",
       "2016-03-01    29588\n",
       "2016-03-08    15515\n",
       "2016-03-15    17055\n",
       "2016-06-28    15704\n",
       "2016-07-12    12250\n",
       "2016-07-19    11487\n",
       "2016-07-26    12000\n",
       "2016-08-02    11111\n",
       "2016-08-09    12117\n",
       "2016-08-23    12147\n",
       "2016-08-30    10868\n",
       "2016-09-13     8583\n",
       "2016-09-20     7599"
      ]
     },
     "execution_count": 10,
     "metadata": {},
     "output_type": "execute_result"
    }
   ],
   "source": [
    "#prepare live viewer data\n",
    "liveMeanTmp = []\n",
    "for date, count in chatGrouped.size().iteritems():\n",
    "    start = datetime.datetime.combine(date, datetime.time(20, 15, 0))\n",
    "    end = datetime.datetime.combine(date, datetime.time(22, 0, 0))\n",
    "    viewers = live.loc[start : end]['viewers']\n",
    "    liveMeanTmp.append((date, int(viewers.mean())))\n",
    "\n",
    "#live mean viewers dataframe\n",
    "liveMean = pd.DataFrame(liveMeanTmp, columns=['date', 'viewers'])\n",
    "\n",
    "#index\n",
    "liveMean = liveMean.set_index(liveMean['date'])\n",
    "liveMean.drop('date', axis=1, inplace=True)\n",
    "\n",
    "liveMean"
   ]
  },
  {
   "cell_type": "code",
   "execution_count": 11,
   "metadata": {
    "collapsed": false
   },
   "outputs": [
    {
     "data": {
      "text/html": [
       "<div>\n",
       "<table border=\"1\" class=\"dataframe\">\n",
       "  <thead>\n",
       "    <tr style=\"text-align: right;\">\n",
       "      <th></th>\n",
       "      <th>participants</th>\n",
       "      <th>viewers</th>\n",
       "      <th>ratio</th>\n",
       "    </tr>\n",
       "    <tr>\n",
       "      <th>date</th>\n",
       "      <th></th>\n",
       "      <th></th>\n",
       "      <th></th>\n",
       "    </tr>\n",
       "  </thead>\n",
       "  <tbody>\n",
       "    <tr>\n",
       "      <th>2015-12-01</th>\n",
       "      <td>8277</td>\n",
       "      <td>19536</td>\n",
       "      <td>42.367936</td>\n",
       "    </tr>\n",
       "    <tr>\n",
       "      <th>2015-12-08</th>\n",
       "      <td>7981</td>\n",
       "      <td>20222</td>\n",
       "      <td>39.466917</td>\n",
       "    </tr>\n",
       "    <tr>\n",
       "      <th>2015-12-15</th>\n",
       "      <td>5696</td>\n",
       "      <td>14152</td>\n",
       "      <td>40.248728</td>\n",
       "    </tr>\n",
       "    <tr>\n",
       "      <th>2015-12-22</th>\n",
       "      <td>6050</td>\n",
       "      <td>15197</td>\n",
       "      <td>39.810489</td>\n",
       "    </tr>\n",
       "    <tr>\n",
       "      <th>2016-01-12</th>\n",
       "      <td>7278</td>\n",
       "      <td>18277</td>\n",
       "      <td>39.820539</td>\n",
       "    </tr>\n",
       "    <tr>\n",
       "      <th>2016-01-19</th>\n",
       "      <td>6756</td>\n",
       "      <td>17225</td>\n",
       "      <td>39.222061</td>\n",
       "    </tr>\n",
       "    <tr>\n",
       "      <th>2016-02-02</th>\n",
       "      <td>6040</td>\n",
       "      <td>15669</td>\n",
       "      <td>38.547450</td>\n",
       "    </tr>\n",
       "    <tr>\n",
       "      <th>2016-02-09</th>\n",
       "      <td>11991</td>\n",
       "      <td>36155</td>\n",
       "      <td>33.165537</td>\n",
       "    </tr>\n",
       "    <tr>\n",
       "      <th>2016-02-16</th>\n",
       "      <td>5736</td>\n",
       "      <td>16123</td>\n",
       "      <td>35.576506</td>\n",
       "    </tr>\n",
       "    <tr>\n",
       "      <th>2016-02-23</th>\n",
       "      <td>6108</td>\n",
       "      <td>16819</td>\n",
       "      <td>36.316071</td>\n",
       "    </tr>\n",
       "    <tr>\n",
       "      <th>2016-03-01</th>\n",
       "      <td>11267</td>\n",
       "      <td>29588</td>\n",
       "      <td>38.079627</td>\n",
       "    </tr>\n",
       "    <tr>\n",
       "      <th>2016-03-08</th>\n",
       "      <td>5833</td>\n",
       "      <td>15515</td>\n",
       "      <td>37.595875</td>\n",
       "    </tr>\n",
       "    <tr>\n",
       "      <th>2016-03-15</th>\n",
       "      <td>5605</td>\n",
       "      <td>17055</td>\n",
       "      <td>32.864263</td>\n",
       "    </tr>\n",
       "    <tr>\n",
       "      <th>2016-06-28</th>\n",
       "      <td>4468</td>\n",
       "      <td>15704</td>\n",
       "      <td>28.451350</td>\n",
       "    </tr>\n",
       "    <tr>\n",
       "      <th>2016-07-12</th>\n",
       "      <td>3519</td>\n",
       "      <td>12250</td>\n",
       "      <td>28.726531</td>\n",
       "    </tr>\n",
       "    <tr>\n",
       "      <th>2016-07-19</th>\n",
       "      <td>2750</td>\n",
       "      <td>11487</td>\n",
       "      <td>23.940106</td>\n",
       "    </tr>\n",
       "    <tr>\n",
       "      <th>2016-07-26</th>\n",
       "      <td>3656</td>\n",
       "      <td>12000</td>\n",
       "      <td>30.466667</td>\n",
       "    </tr>\n",
       "    <tr>\n",
       "      <th>2016-08-02</th>\n",
       "      <td>3054</td>\n",
       "      <td>11111</td>\n",
       "      <td>27.486275</td>\n",
       "    </tr>\n",
       "    <tr>\n",
       "      <th>2016-08-09</th>\n",
       "      <td>3010</td>\n",
       "      <td>12117</td>\n",
       "      <td>24.841132</td>\n",
       "    </tr>\n",
       "    <tr>\n",
       "      <th>2016-08-23</th>\n",
       "      <td>3019</td>\n",
       "      <td>12147</td>\n",
       "      <td>24.853873</td>\n",
       "    </tr>\n",
       "    <tr>\n",
       "      <th>2016-08-30</th>\n",
       "      <td>2745</td>\n",
       "      <td>10868</td>\n",
       "      <td>25.257637</td>\n",
       "    </tr>\n",
       "    <tr>\n",
       "      <th>2016-09-13</th>\n",
       "      <td>2385</td>\n",
       "      <td>8583</td>\n",
       "      <td>27.787487</td>\n",
       "    </tr>\n",
       "    <tr>\n",
       "      <th>2016-09-20</th>\n",
       "      <td>1928</td>\n",
       "      <td>7599</td>\n",
       "      <td>25.371759</td>\n",
       "    </tr>\n",
       "  </tbody>\n",
       "</table>\n",
       "</div>"
      ],
      "text/plain": [
       "            participants  viewers      ratio\n",
       "date                                        \n",
       "2015-12-01          8277    19536  42.367936\n",
       "2015-12-08          7981    20222  39.466917\n",
       "2015-12-15          5696    14152  40.248728\n",
       "2015-12-22          6050    15197  39.810489\n",
       "2016-01-12          7278    18277  39.820539\n",
       "2016-01-19          6756    17225  39.222061\n",
       "2016-02-02          6040    15669  38.547450\n",
       "2016-02-09         11991    36155  33.165537\n",
       "2016-02-16          5736    16123  35.576506\n",
       "2016-02-23          6108    16819  36.316071\n",
       "2016-03-01         11267    29588  38.079627\n",
       "2016-03-08          5833    15515  37.595875\n",
       "2016-03-15          5605    17055  32.864263\n",
       "2016-06-28          4468    15704  28.451350\n",
       "2016-07-12          3519    12250  28.726531\n",
       "2016-07-19          2750    11487  23.940106\n",
       "2016-07-26          3656    12000  30.466667\n",
       "2016-08-02          3054    11111  27.486275\n",
       "2016-08-09          3010    12117  24.841132\n",
       "2016-08-23          3019    12147  24.853873\n",
       "2016-08-30          2745    10868  25.257637\n",
       "2016-09-13          2385     8583  27.787487\n",
       "2016-09-20          1928     7599  25.371759"
      ]
     },
     "execution_count": 11,
     "metadata": {},
     "output_type": "execute_result"
    }
   ],
   "source": [
    "#join data\n",
    "joinedData = chatParticipants.join(liveMean)\n",
    "\n",
    "#participants/viewers ratio\n",
    "joinedData['ratio'] = 100 * joinedData['participants'] / joinedData['viewers']\n",
    "\n",
    "joinedData"
   ]
  },
  {
   "cell_type": "markdown",
   "metadata": {},
   "source": [
    "## Diagramme\n",
    "___"
   ]
  },
  {
   "cell_type": "code",
   "execution_count": 12,
   "metadata": {
    "collapsed": false
   },
   "outputs": [
    {
     "data": {
      "text/plain": [
       "<matplotlib.axes._subplots.AxesSubplot at 0x7fd87635f310>"
      ]
     },
     "execution_count": 12,
     "metadata": {},
     "output_type": "execute_result"
    },
    {
     "data": {
      "image/png": "[encoded data removed]",
      "text/plain": [
       "<matplotlib.figure.Figure at 0x7fd963952490>"
      ]
     },
     "metadata": {},
     "output_type": "display_data"
    }
   ],
   "source": [
    "plot = joinedData[['participants', 'viewers']].plot(kind='bar', figsize=(10, 6), legend=False, title='Anzahl Teilnehmer und Zuschauer')\n",
    "plot.set_xlabel('Datum')\n",
    "plot.set_ylabel('Anzahl')\n",
    "\n",
    "legend = plot.legend(loc=2)\n",
    "legend.get_texts()[0].set_text('Teilnehmer')\n",
    "legend.get_texts()[1].set_text('Zuschauer')\n",
    "\n",
    "plot"
   ]
  },
  {
   "cell_type": "code",
   "execution_count": 13,
   "metadata": {
    "collapsed": false
   },
   "outputs": [
    {
     "data": {
      "text/plain": [
       "<matplotlib.axes._subplots.AxesSubplot at 0x7fd92921da10>"
      ]
     },
     "execution_count": 13,
     "metadata": {},
     "output_type": "execute_result"
    },
    {
     "data": {
      "image/png": "[encoded data removed]",
      "text/plain": [
       "<matplotlib.figure.Figure at 0x7fd9639520d0>"
      ]
     },
     "metadata": {},
     "output_type": "display_data"
    }
   ],
   "source": [
    "plot = joinedData['ratio'].plot(kind='bar', figsize=(10, 6), legend=False, title='Teilnehmer Anteil')\n",
    "plot.set_xlabel('Datum')\n",
    "plot.set_ylabel('Prozent (%)')\n",
    "\n",
    "plt.ylim(ymin=0)\n",
    "\n",
    "plot"
   ]
  }
 ],
 "metadata": {
  "kernelspec": {
   "display_name": "Python 2",
   "language": "python",
   "name": "python2"
  },
  "language_info": {
   "codemirror_mode": {
    "name": "ipython",
    "version": 2
   },
   "file_extension": ".py",
   "mimetype": "text/x-python",
   "name": "python",
   "nbconvert_exporter": "python",
   "pygments_lexer": "ipython2",
   "version": "2.7.12"
  }
 },
 "nbformat": 4,
 "nbformat_minor": 1
}
