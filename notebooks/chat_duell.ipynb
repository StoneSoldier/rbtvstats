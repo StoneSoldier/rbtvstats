{
 "cells": [
  {
   "cell_type": "markdown",
   "metadata": {
    "collapsed": false
   },
   "source": [
    "# Chat Duell\n",
    "___"
   ]
  },
  {
   "cell_type": "code",
   "execution_count": 1,
   "metadata": {
    "collapsed": true
   },
   "outputs": [],
   "source": [
    "from __future__ import unicode_literals\n",
    "import pandas as pd\n",
    "import matplotlib\n",
    "import matplotlib.pyplot as plt\n",
    "import sys\n",
    "import datetime\n",
    "import common.chat\n",
    "import common.live"
   ]
  },
  {
   "cell_type": "code",
   "execution_count": 2,
   "metadata": {
    "collapsed": false
   },
   "outputs": [],
   "source": [
    "#config\n",
    "reload(sys)\n",
    "sys.setdefaultencoding('utf-8')\n",
    "matplotlib.style.use('ggplot')\n",
    "%matplotlib inline\n",
    "\n",
    "#constants\n",
    "CHAT_DATA_DIRECTORY = '/home/marcel/rbtv/rbtvdata/chat'\n",
    "LIVE_DATA_DIRECTORY = '/home/marcel/rbtv/rbtvdata/live'"
   ]
  },
  {
   "cell_type": "markdown",
   "metadata": {},
   "source": [
    "## Chat Daten\n",
    "___"
   ]
  },
  {
   "cell_type": "code",
   "execution_count": 3,
   "metadata": {
    "collapsed": false
   },
   "outputs": [],
   "source": [
    "#load chat data\n",
    "chat = common.chat.load(CHAT_DATA_DIRECTORY)\n",
    "\n",
    "#create additional columns\n",
    "chat['day'] = chat.index.date\n",
    "chat['weekday'] = chat.index.dayofweek"
   ]
  },
  {
   "cell_type": "code",
   "execution_count": 4,
   "metadata": {
    "collapsed": false,
    "scrolled": false
   },
   "outputs": [],
   "source": [
    "#filter chat data by time\n",
    "start = datetime.time(20, 15, 0)\n",
    "end = datetime.time(21, 45, 0)\n",
    "chatFiltered = chat.between_time(start, end)\n",
    "\n",
    "#filter chat data by messages containing `!cd`\n",
    "chatFiltered = chatFiltered[chatFiltered['message'].str.contains('!cd')]\n",
    "\n",
    "#filter chat data by weekday\n",
    "chatFiltered = chatFiltered[chatFiltered['weekday'] == 1]\n",
    "\n",
    "#group chat data by date\n",
    "chatGrouped = chatFiltered.groupby('day')\n",
    "\n",
    "#filter groups by count threshold\n",
    "chatGrouped = chatGrouped.filter(lambda group: len(group) > 2000)\n",
    "\n",
    "#group chat data by date\n",
    "chatGrouped = chatGrouped.groupby('day')\n",
    "\n",
    "#count unique users\n",
    "chatParticipants = chatGrouped.agg({'username': pd.Series.nunique})\n",
    "chatParticipants.columns = ['participants']"
   ]
  },
  {
   "cell_type": "markdown",
   "metadata": {},
   "source": [
    "## Live Daten\n",
    "___"
   ]
  },
  {
   "cell_type": "code",
   "execution_count": 5,
   "metadata": {
    "collapsed": false
   },
   "outputs": [],
   "source": [
    "#load live data\n",
    "live = common.live.load(LIVE_DATA_DIRECTORY)"
   ]
  },
  {
   "cell_type": "code",
   "execution_count": 6,
   "metadata": {
    "collapsed": false
   },
   "outputs": [],
   "source": [
    "#prepare live viewer data\n",
    "liveMeanTmp = []\n",
    "for date, count in chatGrouped.size().iteritems():\n",
    "    start = datetime.datetime.combine(date, datetime.time(20, 15, 0))\n",
    "    end = datetime.datetime.combine(date, datetime.time(22, 0, 0))\n",
    "    viewers = live.loc[start : end]['viewers']\n",
    "    liveMeanTmp.append((date, int(viewers.mean())))\n",
    "\n",
    "#live mean viewers dataframe\n",
    "liveMean = pd.DataFrame(liveMeanTmp, columns=['date', 'viewers'])\n",
    "\n",
    "#index\n",
    "liveMean.set_index(liveMean['date'], inplace=True)\n",
    "liveMean.drop('date', axis=1, inplace=True)"
   ]
  },
  {
   "cell_type": "markdown",
   "metadata": {},
   "source": [
    "## Auswertung\n",
    "___"
   ]
  },
  {
   "cell_type": "code",
   "execution_count": 7,
   "metadata": {
    "collapsed": false,
    "scrolled": false
   },
   "outputs": [
    {
     "data": {
      "text/html": [
       "<div>\n",
       "<table border=\"1\" class=\"dataframe\">\n",
       "  <thead>\n",
       "    <tr style=\"text-align: right;\">\n",
       "      <th></th>\n",
       "      <th>participants</th>\n",
       "      <th>viewers</th>\n",
       "      <th>ratio</th>\n",
       "    </tr>\n",
       "    <tr>\n",
       "      <th>day</th>\n",
       "      <th></th>\n",
       "      <th></th>\n",
       "      <th></th>\n",
       "    </tr>\n",
       "  </thead>\n",
       "  <tbody>\n",
       "    <tr>\n",
       "      <th>2015-12-01</th>\n",
       "      <td>8275</td>\n",
       "      <td>19536</td>\n",
       "      <td>0.423577</td>\n",
       "    </tr>\n",
       "    <tr>\n",
       "      <th>2015-12-08</th>\n",
       "      <td>7978</td>\n",
       "      <td>20222</td>\n",
       "      <td>0.394521</td>\n",
       "    </tr>\n",
       "    <tr>\n",
       "      <th>2015-12-15</th>\n",
       "      <td>5696</td>\n",
       "      <td>14152</td>\n",
       "      <td>0.402487</td>\n",
       "    </tr>\n",
       "    <tr>\n",
       "      <th>2015-12-22</th>\n",
       "      <td>6050</td>\n",
       "      <td>15197</td>\n",
       "      <td>0.398105</td>\n",
       "    </tr>\n",
       "    <tr>\n",
       "      <th>2016-01-12</th>\n",
       "      <td>7277</td>\n",
       "      <td>18277</td>\n",
       "      <td>0.398151</td>\n",
       "    </tr>\n",
       "    <tr>\n",
       "      <th>2016-01-19</th>\n",
       "      <td>6756</td>\n",
       "      <td>17225</td>\n",
       "      <td>0.392221</td>\n",
       "    </tr>\n",
       "    <tr>\n",
       "      <th>2016-02-02</th>\n",
       "      <td>6040</td>\n",
       "      <td>15669</td>\n",
       "      <td>0.385475</td>\n",
       "    </tr>\n",
       "    <tr>\n",
       "      <th>2016-02-09</th>\n",
       "      <td>11989</td>\n",
       "      <td>36155</td>\n",
       "      <td>0.331600</td>\n",
       "    </tr>\n",
       "    <tr>\n",
       "      <th>2016-02-16</th>\n",
       "      <td>5736</td>\n",
       "      <td>16123</td>\n",
       "      <td>0.355765</td>\n",
       "    </tr>\n",
       "    <tr>\n",
       "      <th>2016-02-23</th>\n",
       "      <td>6102</td>\n",
       "      <td>16819</td>\n",
       "      <td>0.362804</td>\n",
       "    </tr>\n",
       "    <tr>\n",
       "      <th>2016-03-01</th>\n",
       "      <td>11257</td>\n",
       "      <td>29588</td>\n",
       "      <td>0.380458</td>\n",
       "    </tr>\n",
       "    <tr>\n",
       "      <th>2016-03-08</th>\n",
       "      <td>5828</td>\n",
       "      <td>15515</td>\n",
       "      <td>0.375636</td>\n",
       "    </tr>\n",
       "    <tr>\n",
       "      <th>2016-03-15</th>\n",
       "      <td>5605</td>\n",
       "      <td>17055</td>\n",
       "      <td>0.328643</td>\n",
       "    </tr>\n",
       "    <tr>\n",
       "      <th>2016-06-28</th>\n",
       "      <td>4468</td>\n",
       "      <td>15704</td>\n",
       "      <td>0.284513</td>\n",
       "    </tr>\n",
       "    <tr>\n",
       "      <th>2016-07-12</th>\n",
       "      <td>3519</td>\n",
       "      <td>12250</td>\n",
       "      <td>0.287265</td>\n",
       "    </tr>\n",
       "    <tr>\n",
       "      <th>2016-07-19</th>\n",
       "      <td>2750</td>\n",
       "      <td>11487</td>\n",
       "      <td>0.239401</td>\n",
       "    </tr>\n",
       "    <tr>\n",
       "      <th>2016-07-26</th>\n",
       "      <td>3656</td>\n",
       "      <td>12000</td>\n",
       "      <td>0.304667</td>\n",
       "    </tr>\n",
       "    <tr>\n",
       "      <th>2016-08-02</th>\n",
       "      <td>3054</td>\n",
       "      <td>11111</td>\n",
       "      <td>0.274863</td>\n",
       "    </tr>\n",
       "    <tr>\n",
       "      <th>2016-08-09</th>\n",
       "      <td>3008</td>\n",
       "      <td>12117</td>\n",
       "      <td>0.248246</td>\n",
       "    </tr>\n",
       "    <tr>\n",
       "      <th>2016-08-23</th>\n",
       "      <td>3017</td>\n",
       "      <td>12147</td>\n",
       "      <td>0.248374</td>\n",
       "    </tr>\n",
       "    <tr>\n",
       "      <th>2016-08-30</th>\n",
       "      <td>2743</td>\n",
       "      <td>10868</td>\n",
       "      <td>0.252392</td>\n",
       "    </tr>\n",
       "    <tr>\n",
       "      <th>2016-09-13</th>\n",
       "      <td>2383</td>\n",
       "      <td>8583</td>\n",
       "      <td>0.277642</td>\n",
       "    </tr>\n",
       "    <tr>\n",
       "      <th>2016-09-20</th>\n",
       "      <td>1927</td>\n",
       "      <td>7599</td>\n",
       "      <td>0.253586</td>\n",
       "    </tr>\n",
       "    <tr>\n",
       "      <th>2016-09-27</th>\n",
       "      <td>2651</td>\n",
       "      <td>8846</td>\n",
       "      <td>0.299683</td>\n",
       "    </tr>\n",
       "    <tr>\n",
       "      <th>2016-10-04</th>\n",
       "      <td>2313</td>\n",
       "      <td>8554</td>\n",
       "      <td>0.270400</td>\n",
       "    </tr>\n",
       "    <tr>\n",
       "      <th>2016-10-18</th>\n",
       "      <td>2011</td>\n",
       "      <td>7130</td>\n",
       "      <td>0.282048</td>\n",
       "    </tr>\n",
       "  </tbody>\n",
       "</table>\n",
       "</div>"
      ],
      "text/plain": [
       "            participants  viewers     ratio\n",
       "day                                        \n",
       "2015-12-01          8275    19536  0.423577\n",
       "2015-12-08          7978    20222  0.394521\n",
       "2015-12-15          5696    14152  0.402487\n",
       "2015-12-22          6050    15197  0.398105\n",
       "2016-01-12          7277    18277  0.398151\n",
       "2016-01-19          6756    17225  0.392221\n",
       "2016-02-02          6040    15669  0.385475\n",
       "2016-02-09         11989    36155  0.331600\n",
       "2016-02-16          5736    16123  0.355765\n",
       "2016-02-23          6102    16819  0.362804\n",
       "2016-03-01         11257    29588  0.380458\n",
       "2016-03-08          5828    15515  0.375636\n",
       "2016-03-15          5605    17055  0.328643\n",
       "2016-06-28          4468    15704  0.284513\n",
       "2016-07-12          3519    12250  0.287265\n",
       "2016-07-19          2750    11487  0.239401\n",
       "2016-07-26          3656    12000  0.304667\n",
       "2016-08-02          3054    11111  0.274863\n",
       "2016-08-09          3008    12117  0.248246\n",
       "2016-08-23          3017    12147  0.248374\n",
       "2016-08-30          2743    10868  0.252392\n",
       "2016-09-13          2383     8583  0.277642\n",
       "2016-09-20          1927     7599  0.253586\n",
       "2016-09-27          2651     8846  0.299683\n",
       "2016-10-04          2313     8554  0.270400\n",
       "2016-10-18          2011     7130  0.282048"
      ]
     },
     "execution_count": 7,
     "metadata": {},
     "output_type": "execute_result"
    }
   ],
   "source": [
    "#join data\n",
    "joinedData = chatParticipants.join(liveMean)\n",
    "\n",
    "#participants to viewers ratio\n",
    "joinedData['ratio'] = joinedData['participants'] / joinedData['viewers']\n",
    "\n",
    "joinedData"
   ]
  },
  {
   "cell_type": "code",
   "execution_count": 8,
   "metadata": {
    "collapsed": false
   },
   "outputs": [
    {
     "data": {
      "text/plain": [
       "<matplotlib.axes._subplots.AxesSubplot at 0x7f56b004c710>"
      ]
     },
     "execution_count": 8,
     "metadata": {},
     "output_type": "execute_result"
    },
    {
     "data": {
      "image/png": "[encoded data removed]",
      "text/plain": [
       "<matplotlib.figure.Figure at 0x7f57cc49f050>"
      ]
     },
     "metadata": {},
     "output_type": "display_data"
    }
   ],
   "source": [
    "plot = joinedData[['participants', 'viewers']].plot(kind='bar', figsize=(10, 6), legend=False, title='Anzahl Teilnehmer und Zuschauer')\n",
    "plot.set_ylabel('Anzahl')\n",
    "\n",
    "legend = plot.legend(loc=2)\n",
    "legend.get_texts()[0].set_text('Teilnehmer')\n",
    "legend.get_texts()[1].set_text('Zuschauer')\n",
    "\n",
    "plot"
   ]
  },
  {
   "cell_type": "code",
   "execution_count": 9,
   "metadata": {
    "collapsed": false
   },
   "outputs": [
    {
     "data": {
      "text/plain": [
       "<matplotlib.axes._subplots.AxesSubplot at 0x7f57cfe556d0>"
      ]
     },
     "execution_count": 9,
     "metadata": {},
     "output_type": "execute_result"
    },
    {
     "data": {
      "image/png": "[encoded data removed]",
      "text/plain": [
       "<matplotlib.figure.Figure at 0x7f579b015190>"
      ]
     },
     "metadata": {},
     "output_type": "display_data"
    }
   ],
   "source": [
    "plot = joinedData['ratio'].plot(kind='bar', figsize=(10, 6), title='Chat Teilnehmer zu Live Zuschauer Verhältnis')\n",
    "\n",
    "plot"
   ]
  }
 ],
 "metadata": {
  "kernelspec": {
   "display_name": "Python 2",
   "language": "python",
   "name": "python2"
  },
  "language_info": {
   "codemirror_mode": {
    "name": "ipython",
    "version": 2
   },
   "file_extension": ".py",
   "mimetype": "text/x-python",
   "name": "python",
   "nbconvert_exporter": "python",
   "pygments_lexer": "ipython2",
   "version": "2.7.12"
  }
 },
 "nbformat": 4,
 "nbformat_minor": 1
}
