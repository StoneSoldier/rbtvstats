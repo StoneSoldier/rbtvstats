{
 "cells": [
  {
   "cell_type": "markdown",
   "metadata": {
    "collapsed": false
   },
   "source": [
    "# Chat Duell"
   ]
  },
  {
   "cell_type": "markdown",
   "metadata": {},
   "source": [
    "**Note**: At ~850MB of chat messages this script will use ~5GB of RAM. The calculations are single threaded and will take a few minutes (on an i7@4GHz)."
   ]
  },
  {
   "cell_type": "code",
   "execution_count": 1,
   "metadata": {
    "collapsed": true
   },
   "outputs": [],
   "source": [
    "import pandas as pd\n",
    "import matplotlib\n",
    "import matplotlib.pyplot as plt\n",
    "import os\n",
    "import re\n",
    "import datetime\n",
    "from pytz import timezone\n",
    "import pytz"
   ]
  },
  {
   "cell_type": "code",
   "execution_count": 2,
   "metadata": {
    "collapsed": false
   },
   "outputs": [],
   "source": [
    "#config\n",
    "matplotlib.style.use('ggplot')\n",
    "%matplotlib inline\n",
    "\n",
    "#constants\n",
    "CHAT_DATA_DIRECTORY = '/home/marcel/Development/rbtvdata/chat'\n",
    "LIVE_DATA_DIRECTORY = '/home/marcel/Development/rbtvdata/live'"
   ]
  },
  {
   "cell_type": "code",
   "execution_count": 3,
   "metadata": {
    "collapsed": true
   },
   "outputs": [],
   "source": [
    "#chat dataframe\n",
    "columns = ['datetime', 'username', 'message']\n",
    "chat = pd.DataFrame({}, columns=columns)\n",
    "\n",
    "#read chat files\n",
    "exp = re.compile('\\[(.+?)\\] <(.+?)> (.+)?')\n",
    "files = sorted(os.listdir(CHAT_DATA_DIRECTORY))\n",
    "for filename in files:\n",
    "    if filename.endswith('.txt'):\n",
    "        filepath = os.path.join(CHAT_DATA_DIRECTORY, filename)\n",
    "        dateStr = filename.rstrip('.txt')\n",
    "        \n",
    "        #read file\n",
    "        openfile = open(filepath)\n",
    "        rawData = openfile.read()\n",
    "        openfile.close()\n",
    "\n",
    "        #process each chat message\n",
    "        splitRawData = rawData.split('\\n')\n",
    "        messages = []\n",
    "        for line in splitRawData:\n",
    "            match = exp.match(line)\n",
    "            if match is not None:\n",
    "                timeStr = match.group(1)\n",
    "                datetimeStr = dateStr + ' ' + timeStr\n",
    "                username = match.group(2)\n",
    "                message = match.group(3)\n",
    "                \n",
    "                messages.append((datetimeStr, username, message))\n",
    "        \n",
    "        #create data frame and append data\n",
    "        chat = chat.append(pd.DataFrame(messages, columns=columns))\n",
    "\n",
    "#adjust data type\n",
    "chat['datetime'] = pd.to_datetime(chat['datetime'], format='%Y-%m-%d %H:%M:%S')\n",
    "\n",
    "#create additional columns\n",
    "chat['date'] = chat['datetime'].dt.date\n",
    "chat['time'] = chat['datetime'].dt.time\n",
    "chat['weekday'] = chat['datetime'].dt.dayofweek\n",
    "\n",
    "#index\n",
    "chat = chat.set_index(pd.to_datetime(chat['datetime'], format='%Y-%m-%d %H:%M:%S'))"
   ]
  },
  {
   "cell_type": "code",
   "execution_count": 4,
   "metadata": {
    "collapsed": false,
    "scrolled": true
   },
   "outputs": [
    {
     "data": {
      "text/html": [
       "<div>\n",
       "<table border=\"1\" class=\"dataframe\">\n",
       "  <thead>\n",
       "    <tr style=\"text-align: right;\">\n",
       "      <th></th>\n",
       "      <th>datetime</th>\n",
       "      <th>username</th>\n",
       "      <th>message</th>\n",
       "      <th>date</th>\n",
       "      <th>time</th>\n",
       "      <th>weekday</th>\n",
       "    </tr>\n",
       "    <tr>\n",
       "      <th>datetime</th>\n",
       "      <th></th>\n",
       "      <th></th>\n",
       "      <th></th>\n",
       "      <th></th>\n",
       "      <th></th>\n",
       "      <th></th>\n",
       "    </tr>\n",
       "  </thead>\n",
       "  <tbody>\n",
       "    <tr>\n",
       "      <th>2015-08-05 02:00:09</th>\n",
       "      <td>2015-08-05 02:00:09</td>\n",
       "      <td>tadloss</td>\n",
       "      <td>!sendeplan</td>\n",
       "      <td>2015-08-05</td>\n",
       "      <td>02:00:09</td>\n",
       "      <td>2</td>\n",
       "    </tr>\n",
       "    <tr>\n",
       "      <th>2015-08-05 02:00:09</th>\n",
       "      <td>2015-08-05 02:00:09</td>\n",
       "      <td>moobot</td>\n",
       "      <td>Angaben zum aktuellen Programm findet Ihr: Auf...</td>\n",
       "      <td>2015-08-05</td>\n",
       "      <td>02:00:09</td>\n",
       "      <td>2</td>\n",
       "    </tr>\n",
       "    <tr>\n",
       "      <th>2015-08-05 02:00:10</th>\n",
       "      <td>2015-08-05 02:00:10</td>\n",
       "      <td>dersendeplan</td>\n",
       "      <td>@tadloss (01:00) Blue Estate &gt;&gt; (02:30) Darkes...</td>\n",
       "      <td>2015-08-05</td>\n",
       "      <td>02:00:10</td>\n",
       "      <td>2</td>\n",
       "    </tr>\n",
       "    <tr>\n",
       "      <th>2015-08-05 02:00:17</th>\n",
       "      <td>2015-08-05 02:00:17</td>\n",
       "      <td>dedalos_stormbring</td>\n",
       "      <td>@Gunvolf, Brav. Kappa</td>\n",
       "      <td>2015-08-05</td>\n",
       "      <td>02:00:17</td>\n",
       "      <td>2</td>\n",
       "    </tr>\n",
       "    <tr>\n",
       "      <th>2015-08-05 02:00:18</th>\n",
       "      <td>2015-08-05 02:00:18</td>\n",
       "      <td>unclesreefermadness</td>\n",
       "      <td>ist da nicht schmatzen gäng und ein kompliment</td>\n",
       "      <td>2015-08-05</td>\n",
       "      <td>02:00:18</td>\n",
       "      <td>2</td>\n",
       "    </tr>\n",
       "  </tbody>\n",
       "</table>\n",
       "</div>"
      ],
      "text/plain": [
       "                               datetime             username  \\\n",
       "datetime                                                       \n",
       "2015-08-05 02:00:09 2015-08-05 02:00:09              tadloss   \n",
       "2015-08-05 02:00:09 2015-08-05 02:00:09               moobot   \n",
       "2015-08-05 02:00:10 2015-08-05 02:00:10         dersendeplan   \n",
       "2015-08-05 02:00:17 2015-08-05 02:00:17   dedalos_stormbring   \n",
       "2015-08-05 02:00:18 2015-08-05 02:00:18  unclesreefermadness   \n",
       "\n",
       "                                                               message  \\\n",
       "datetime                                                                 \n",
       "2015-08-05 02:00:09                                         !sendeplan   \n",
       "2015-08-05 02:00:09  Angaben zum aktuellen Programm findet Ihr: Auf...   \n",
       "2015-08-05 02:00:10  @tadloss (01:00) Blue Estate >> (02:30) Darkes...   \n",
       "2015-08-05 02:00:17                              @Gunvolf, Brav. Kappa   \n",
       "2015-08-05 02:00:18     ist da nicht schmatzen gäng und ein kompliment   \n",
       "\n",
       "                           date      time  weekday  \n",
       "datetime                                            \n",
       "2015-08-05 02:00:09  2015-08-05  02:00:09        2  \n",
       "2015-08-05 02:00:09  2015-08-05  02:00:09        2  \n",
       "2015-08-05 02:00:10  2015-08-05  02:00:10        2  \n",
       "2015-08-05 02:00:17  2015-08-05  02:00:17        2  \n",
       "2015-08-05 02:00:18  2015-08-05  02:00:18        2  "
      ]
     },
     "execution_count": 4,
     "metadata": {},
     "output_type": "execute_result"
    }
   ],
   "source": [
    "chat.head()"
   ]
  },
  {
   "cell_type": "code",
   "execution_count": 5,
   "metadata": {
    "collapsed": false
   },
   "outputs": [
    {
     "data": {
      "text/html": [
       "<div>\n",
       "<table border=\"1\" class=\"dataframe\">\n",
       "  <thead>\n",
       "    <tr style=\"text-align: right;\">\n",
       "      <th></th>\n",
       "      <th>datetime</th>\n",
       "      <th>username</th>\n",
       "      <th>message</th>\n",
       "      <th>date</th>\n",
       "      <th>time</th>\n",
       "      <th>weekday</th>\n",
       "    </tr>\n",
       "    <tr>\n",
       "      <th>datetime</th>\n",
       "      <th></th>\n",
       "      <th></th>\n",
       "      <th></th>\n",
       "      <th></th>\n",
       "      <th></th>\n",
       "      <th></th>\n",
       "    </tr>\n",
       "  </thead>\n",
       "  <tbody>\n",
       "    <tr>\n",
       "      <th>2016-09-21 02:59:14</th>\n",
       "      <td>2016-09-21 02:59:14</td>\n",
       "      <td>niunOne</td>\n",
       "      <td>😖</td>\n",
       "      <td>2016-09-21</td>\n",
       "      <td>02:59:14</td>\n",
       "      <td>2</td>\n",
       "    </tr>\n",
       "    <tr>\n",
       "      <th>2016-09-21 02:59:21</th>\n",
       "      <td>2016-09-21 02:59:21</td>\n",
       "      <td>forearth</td>\n",
       "      <td>😯😦😣😠😈 Niemals! Gesichtskuchen</td>\n",
       "      <td>2016-09-21</td>\n",
       "      <td>02:59:21</td>\n",
       "      <td>2</td>\n",
       "    </tr>\n",
       "    <tr>\n",
       "      <th>2016-09-21 02:59:37</th>\n",
       "      <td>2016-09-21 02:59:37</td>\n",
       "      <td>SkyStraver</td>\n",
       "      <td>@DMC05 bitte nicht q,q Du hast soviel mehr zu ...</td>\n",
       "      <td>2016-09-21</td>\n",
       "      <td>02:59:37</td>\n",
       "      <td>2</td>\n",
       "    </tr>\n",
       "    <tr>\n",
       "      <th>2016-09-21 02:59:57</th>\n",
       "      <td>2016-09-21 02:59:57</td>\n",
       "      <td>HipHopGuru</td>\n",
       "      <td>Den hat er Jahrelang verkauft</td>\n",
       "      <td>2016-09-21</td>\n",
       "      <td>02:59:57</td>\n",
       "      <td>2</td>\n",
       "    </tr>\n",
       "    <tr>\n",
       "      <th>2016-09-21 02:59:59</th>\n",
       "      <td>2016-09-21 02:59:59</td>\n",
       "      <td>niunOne</td>\n",
       "      <td>@DMC05 du machst immer so andeutungen und dann...</td>\n",
       "      <td>2016-09-21</td>\n",
       "      <td>02:59:59</td>\n",
       "      <td>2</td>\n",
       "    </tr>\n",
       "  </tbody>\n",
       "</table>\n",
       "</div>"
      ],
      "text/plain": [
       "                               datetime    username  \\\n",
       "datetime                                              \n",
       "2016-09-21 02:59:14 2016-09-21 02:59:14     niunOne   \n",
       "2016-09-21 02:59:21 2016-09-21 02:59:21    forearth   \n",
       "2016-09-21 02:59:37 2016-09-21 02:59:37  SkyStraver   \n",
       "2016-09-21 02:59:57 2016-09-21 02:59:57  HipHopGuru   \n",
       "2016-09-21 02:59:59 2016-09-21 02:59:59     niunOne   \n",
       "\n",
       "                                                               message  \\\n",
       "datetime                                                                 \n",
       "2016-09-21 02:59:14                                                  😖   \n",
       "2016-09-21 02:59:21                      😯😦😣😠😈 Niemals! Gesichtskuchen   \n",
       "2016-09-21 02:59:37  @DMC05 bitte nicht q,q Du hast soviel mehr zu ...   \n",
       "2016-09-21 02:59:57                      Den hat er Jahrelang verkauft   \n",
       "2016-09-21 02:59:59  @DMC05 du machst immer so andeutungen und dann...   \n",
       "\n",
       "                           date      time  weekday  \n",
       "datetime                                            \n",
       "2016-09-21 02:59:14  2016-09-21  02:59:14        2  \n",
       "2016-09-21 02:59:21  2016-09-21  02:59:21        2  \n",
       "2016-09-21 02:59:37  2016-09-21  02:59:37        2  \n",
       "2016-09-21 02:59:57  2016-09-21  02:59:57        2  \n",
       "2016-09-21 02:59:59  2016-09-21  02:59:59        2  "
      ]
     },
     "execution_count": 5,
     "metadata": {},
     "output_type": "execute_result"
    }
   ],
   "source": [
    "chat.tail()"
   ]
  },
  {
   "cell_type": "code",
   "execution_count": 6,
   "metadata": {
    "collapsed": false
   },
   "outputs": [],
   "source": [
    "#live dataframe\n",
    "columns = ['datetime', 'viewers']\n",
    "live = pd.DataFrame({}, columns=columns)\n",
    "\n",
    "#read live files\n",
    "liveTmp = []\n",
    "timezoneLocal = timezone('Europe/Berlin')\n",
    "files = sorted(os.listdir(LIVE_DATA_DIRECTORY))\n",
    "for filename in files:\n",
    "    if filename.endswith('.csv'):\n",
    "        filepath = os.path.join(LIVE_DATA_DIRECTORY, filename)\n",
    "        \n",
    "        #read file\n",
    "        openfile = open(filepath)\n",
    "        rawData = openfile.read()\n",
    "        openfile.close()\n",
    "        \n",
    "        #process each datapoint\n",
    "        splitRawData = rawData.split('\\n')\n",
    "        datapoints = []\n",
    "        for line in splitRawData:\n",
    "            split = line.split(',')\n",
    "            if len(split) == 2:\n",
    "                timestamp = split[0]\n",
    "                viewers = int(split[1])\n",
    "                datetimeObj = datetime.datetime.fromtimestamp(int(timestamp))\n",
    "                datapoints.append((datetimeObj, viewers))\n",
    "        \n",
    "        live = live.append(pd.DataFrame(datapoints, columns=columns))\n",
    "\n",
    "#sort data\n",
    "live = live.sort_values(['datetime'], ascending=[True])\n",
    "\n",
    "#index\n",
    "live = live.set_index(live['datetime'])"
   ]
  },
  {
   "cell_type": "code",
   "execution_count": 7,
   "metadata": {
    "collapsed": false
   },
   "outputs": [
    {
     "data": {
      "text/html": [
       "<div>\n",
       "<table border=\"1\" class=\"dataframe\">\n",
       "  <thead>\n",
       "    <tr style=\"text-align: right;\">\n",
       "      <th></th>\n",
       "      <th>datetime</th>\n",
       "      <th>viewers</th>\n",
       "    </tr>\n",
       "    <tr>\n",
       "      <th>datetime</th>\n",
       "      <th></th>\n",
       "      <th></th>\n",
       "    </tr>\n",
       "  </thead>\n",
       "  <tbody>\n",
       "    <tr>\n",
       "      <th>2015-01-15 18:37:02</th>\n",
       "      <td>2015-01-15 18:37:02</td>\n",
       "      <td>757.0</td>\n",
       "    </tr>\n",
       "    <tr>\n",
       "      <th>2015-01-15 18:37:47</th>\n",
       "      <td>2015-01-15 18:37:47</td>\n",
       "      <td>757.0</td>\n",
       "    </tr>\n",
       "    <tr>\n",
       "      <th>2015-01-15 18:37:50</th>\n",
       "      <td>2015-01-15 18:37:50</td>\n",
       "      <td>757.0</td>\n",
       "    </tr>\n",
       "    <tr>\n",
       "      <th>2015-01-15 18:37:52</th>\n",
       "      <td>2015-01-15 18:37:52</td>\n",
       "      <td>757.0</td>\n",
       "    </tr>\n",
       "    <tr>\n",
       "      <th>2015-01-15 18:37:54</th>\n",
       "      <td>2015-01-15 18:37:54</td>\n",
       "      <td>757.0</td>\n",
       "    </tr>\n",
       "  </tbody>\n",
       "</table>\n",
       "</div>"
      ],
      "text/plain": [
       "                               datetime  viewers\n",
       "datetime                                        \n",
       "2015-01-15 18:37:02 2015-01-15 18:37:02    757.0\n",
       "2015-01-15 18:37:47 2015-01-15 18:37:47    757.0\n",
       "2015-01-15 18:37:50 2015-01-15 18:37:50    757.0\n",
       "2015-01-15 18:37:52 2015-01-15 18:37:52    757.0\n",
       "2015-01-15 18:37:54 2015-01-15 18:37:54    757.0"
      ]
     },
     "execution_count": 7,
     "metadata": {},
     "output_type": "execute_result"
    }
   ],
   "source": [
    "live.head()"
   ]
  },
  {
   "cell_type": "code",
   "execution_count": 8,
   "metadata": {
    "collapsed": false
   },
   "outputs": [
    {
     "data": {
      "text/html": [
       "<div>\n",
       "<table border=\"1\" class=\"dataframe\">\n",
       "  <thead>\n",
       "    <tr style=\"text-align: right;\">\n",
       "      <th></th>\n",
       "      <th>datetime</th>\n",
       "      <th>viewers</th>\n",
       "    </tr>\n",
       "    <tr>\n",
       "      <th>datetime</th>\n",
       "      <th></th>\n",
       "      <th></th>\n",
       "    </tr>\n",
       "  </thead>\n",
       "  <tbody>\n",
       "    <tr>\n",
       "      <th>2016-09-20 21:56:03</th>\n",
       "      <td>2016-09-20 21:56:03</td>\n",
       "      <td>6083.0</td>\n",
       "    </tr>\n",
       "    <tr>\n",
       "      <th>2016-09-20 21:57:02</th>\n",
       "      <td>2016-09-20 21:57:02</td>\n",
       "      <td>6096.0</td>\n",
       "    </tr>\n",
       "    <tr>\n",
       "      <th>2016-09-20 21:58:03</th>\n",
       "      <td>2016-09-20 21:58:03</td>\n",
       "      <td>6130.0</td>\n",
       "    </tr>\n",
       "    <tr>\n",
       "      <th>2016-09-20 21:59:02</th>\n",
       "      <td>2016-09-20 21:59:02</td>\n",
       "      <td>6176.0</td>\n",
       "    </tr>\n",
       "    <tr>\n",
       "      <th>2016-09-20 22:00:02</th>\n",
       "      <td>2016-09-20 22:00:02</td>\n",
       "      <td>6242.0</td>\n",
       "    </tr>\n",
       "  </tbody>\n",
       "</table>\n",
       "</div>"
      ],
      "text/plain": [
       "                               datetime  viewers\n",
       "datetime                                        \n",
       "2016-09-20 21:56:03 2016-09-20 21:56:03   6083.0\n",
       "2016-09-20 21:57:02 2016-09-20 21:57:02   6096.0\n",
       "2016-09-20 21:58:03 2016-09-20 21:58:03   6130.0\n",
       "2016-09-20 21:59:02 2016-09-20 21:59:02   6176.0\n",
       "2016-09-20 22:00:02 2016-09-20 22:00:02   6242.0"
      ]
     },
     "execution_count": 8,
     "metadata": {},
     "output_type": "execute_result"
    }
   ],
   "source": [
    "live.tail()"
   ]
  },
  {
   "cell_type": "code",
   "execution_count": 9,
   "metadata": {
    "collapsed": false,
    "scrolled": false
   },
   "outputs": [
    {
     "data": {
      "text/plain": [
       "date\n",
       "2015-12-01     8277\n",
       "2015-12-08     7981\n",
       "2015-12-15     5696\n",
       "2015-12-22     6050\n",
       "2016-01-12     7278\n",
       "2016-01-19     6756\n",
       "2016-02-02     6040\n",
       "2016-02-09    11991\n",
       "2016-02-16     5736\n",
       "2016-02-23     6108\n",
       "2016-03-01    11267\n",
       "2016-03-08     5833\n",
       "2016-03-15     5605\n",
       "2016-06-28     4468\n",
       "2016-07-12     3519\n",
       "2016-07-19     2750\n",
       "2016-07-26     3656\n",
       "2016-08-02     3054\n",
       "2016-08-09     3010\n",
       "2016-08-23     3019\n",
       "2016-08-30     2745\n",
       "2016-09-13     2385\n",
       "2016-09-20     1928\n",
       "Name: username, dtype: int64"
      ]
     },
     "execution_count": 9,
     "metadata": {},
     "output_type": "execute_result"
    }
   ],
   "source": [
    "#prepare chat message data\n",
    "chatFiltered = chat\n",
    "\n",
    "#filter messages by time\n",
    "start = datetime.time(20, 15, 0)\n",
    "end = datetime.time(22, 0, 0)\n",
    "chatFiltered = chatFiltered.between_time(start, end)\n",
    "\n",
    "#filter messages containing `!cd`\n",
    "chatFiltered = chatFiltered[chatFiltered['message'].str.contains('!cd')]\n",
    "\n",
    "#filter meassages by weekday\n",
    "chatFiltered = chatFiltered[chatFiltered['weekday'] == 1]\n",
    "\n",
    "#group messages by date\n",
    "chatGrouped = chatFiltered.groupby('date')\n",
    "\n",
    "#filter groups by count threshold\n",
    "chatGrouped = chatGrouped.filter(lambda group: len(group) > 2000)\n",
    "\n",
    "#group messages by date\n",
    "chatGrouped = chatGrouped.groupby('date')\n",
    "\n",
    "#count (unique) users\n",
    "chatParticipants = chatGrouped.username.nunique()\n",
    "chatParticipants"
   ]
  },
  {
   "cell_type": "code",
   "execution_count": 10,
   "metadata": {
    "collapsed": false
   },
   "outputs": [
    {
     "data": {
      "text/plain": [
       "<matplotlib.axes._subplots.AxesSubplot at 0x7f9d0bf85cd0>"
      ]
     },
     "execution_count": 10,
     "metadata": {},
     "output_type": "execute_result"
    },
    {
     "data": {
      "image/png": "[encoded data removed]",
      "text/plain": [
       "<matplotlib.figure.Figure at 0x7f9db2662ed0>"
      ]
     },
     "metadata": {},
     "output_type": "display_data"
    }
   ],
   "source": [
    "plot = chatParticipants.plot(kind='bar', figsize=(10, 5), title='Anzahl Teilnehmer beim Chat Duell')\n",
    "plot.set_xlabel('Datum')\n",
    "plot.set_ylabel('Teilnehmer')\n",
    "plot"
   ]
  },
  {
   "cell_type": "code",
   "execution_count": 11,
   "metadata": {
    "collapsed": false
   },
   "outputs": [
    {
     "data": {
      "text/html": [
       "<div>\n",
       "<table border=\"1\" class=\"dataframe\">\n",
       "  <thead>\n",
       "    <tr style=\"text-align: right;\">\n",
       "      <th></th>\n",
       "      <th>date</th>\n",
       "      <th>viewers</th>\n",
       "    </tr>\n",
       "    <tr>\n",
       "      <th>date</th>\n",
       "      <th></th>\n",
       "      <th></th>\n",
       "    </tr>\n",
       "  </thead>\n",
       "  <tbody>\n",
       "    <tr>\n",
       "      <th>2015-12-01</th>\n",
       "      <td>2015-12-01</td>\n",
       "      <td>19607</td>\n",
       "    </tr>\n",
       "    <tr>\n",
       "      <th>2015-12-08</th>\n",
       "      <td>2015-12-08</td>\n",
       "      <td>20263</td>\n",
       "    </tr>\n",
       "    <tr>\n",
       "      <th>2015-12-15</th>\n",
       "      <td>2015-12-15</td>\n",
       "      <td>14203</td>\n",
       "    </tr>\n",
       "    <tr>\n",
       "      <th>2015-12-22</th>\n",
       "      <td>2015-12-22</td>\n",
       "      <td>15241</td>\n",
       "    </tr>\n",
       "    <tr>\n",
       "      <th>2016-01-12</th>\n",
       "      <td>2016-01-12</td>\n",
       "      <td>18344</td>\n",
       "    </tr>\n",
       "    <tr>\n",
       "      <th>2016-01-19</th>\n",
       "      <td>2016-01-19</td>\n",
       "      <td>17279</td>\n",
       "    </tr>\n",
       "    <tr>\n",
       "      <th>2016-02-02</th>\n",
       "      <td>2016-02-02</td>\n",
       "      <td>15976</td>\n",
       "    </tr>\n",
       "    <tr>\n",
       "      <th>2016-02-09</th>\n",
       "      <td>2016-02-09</td>\n",
       "      <td>36257</td>\n",
       "    </tr>\n",
       "    <tr>\n",
       "      <th>2016-02-16</th>\n",
       "      <td>2016-02-16</td>\n",
       "      <td>16178</td>\n",
       "    </tr>\n",
       "    <tr>\n",
       "      <th>2016-02-23</th>\n",
       "      <td>2016-02-23</td>\n",
       "      <td>16863</td>\n",
       "    </tr>\n",
       "    <tr>\n",
       "      <th>2016-03-01</th>\n",
       "      <td>2016-03-01</td>\n",
       "      <td>29712</td>\n",
       "    </tr>\n",
       "    <tr>\n",
       "      <th>2016-03-08</th>\n",
       "      <td>2016-03-08</td>\n",
       "      <td>15518</td>\n",
       "    </tr>\n",
       "    <tr>\n",
       "      <th>2016-03-15</th>\n",
       "      <td>2016-03-15</td>\n",
       "      <td>17072</td>\n",
       "    </tr>\n",
       "    <tr>\n",
       "      <th>2016-06-28</th>\n",
       "      <td>2016-06-28</td>\n",
       "      <td>15738</td>\n",
       "    </tr>\n",
       "    <tr>\n",
       "      <th>2016-07-12</th>\n",
       "      <td>2016-07-12</td>\n",
       "      <td>12291</td>\n",
       "    </tr>\n",
       "    <tr>\n",
       "      <th>2016-07-19</th>\n",
       "      <td>2016-07-19</td>\n",
       "      <td>11540</td>\n",
       "    </tr>\n",
       "    <tr>\n",
       "      <th>2016-07-26</th>\n",
       "      <td>2016-07-26</td>\n",
       "      <td>12061</td>\n",
       "    </tr>\n",
       "    <tr>\n",
       "      <th>2016-08-02</th>\n",
       "      <td>2016-08-02</td>\n",
       "      <td>11164</td>\n",
       "    </tr>\n",
       "    <tr>\n",
       "      <th>2016-08-09</th>\n",
       "      <td>2016-08-09</td>\n",
       "      <td>12126</td>\n",
       "    </tr>\n",
       "    <tr>\n",
       "      <th>2016-08-23</th>\n",
       "      <td>2016-08-23</td>\n",
       "      <td>12144</td>\n",
       "    </tr>\n",
       "    <tr>\n",
       "      <th>2016-08-30</th>\n",
       "      <td>2016-08-30</td>\n",
       "      <td>10884</td>\n",
       "    </tr>\n",
       "    <tr>\n",
       "      <th>2016-09-13</th>\n",
       "      <td>2016-09-13</td>\n",
       "      <td>8603</td>\n",
       "    </tr>\n",
       "    <tr>\n",
       "      <th>2016-09-20</th>\n",
       "      <td>2016-09-20</td>\n",
       "      <td>7612</td>\n",
       "    </tr>\n",
       "  </tbody>\n",
       "</table>\n",
       "</div>"
      ],
      "text/plain": [
       "                  date  viewers\n",
       "date                           \n",
       "2015-12-01  2015-12-01    19607\n",
       "2015-12-08  2015-12-08    20263\n",
       "2015-12-15  2015-12-15    14203\n",
       "2015-12-22  2015-12-22    15241\n",
       "2016-01-12  2016-01-12    18344\n",
       "2016-01-19  2016-01-19    17279\n",
       "2016-02-02  2016-02-02    15976\n",
       "2016-02-09  2016-02-09    36257\n",
       "2016-02-16  2016-02-16    16178\n",
       "2016-02-23  2016-02-23    16863\n",
       "2016-03-01  2016-03-01    29712\n",
       "2016-03-08  2016-03-08    15518\n",
       "2016-03-15  2016-03-15    17072\n",
       "2016-06-28  2016-06-28    15738\n",
       "2016-07-12  2016-07-12    12291\n",
       "2016-07-19  2016-07-19    11540\n",
       "2016-07-26  2016-07-26    12061\n",
       "2016-08-02  2016-08-02    11164\n",
       "2016-08-09  2016-08-09    12126\n",
       "2016-08-23  2016-08-23    12144\n",
       "2016-08-30  2016-08-30    10884\n",
       "2016-09-13  2016-09-13     8603\n",
       "2016-09-20  2016-09-20     7612"
      ]
     },
     "execution_count": 11,
     "metadata": {},
     "output_type": "execute_result"
    }
   ],
   "source": [
    "#prepare live viewer data\n",
    "meanViewersTmp = []\n",
    "for date, count in chatGrouped.size().iteritems():\n",
    "    start = datetime.datetime.combine(date, datetime.time(20, 15, 0))\n",
    "    end = datetime.datetime.combine(date, datetime.time(22, 0, 0))\n",
    "    viewers = live.loc[start : end]['viewers']\n",
    "    meanViewersTmp.append((date, int(viewers.mean())))\n",
    "\n",
    "#mean viewers dataframe\n",
    "columns = ['date', 'viewers']\n",
    "meanViewers = pd.DataFrame(meanViewersTmp, columns=columns)\n",
    "\n",
    "#index\n",
    "meanViewers = meanViewers.set_index(meanViewers['date'])\n",
    "\n",
    "meanViewers"
   ]
  },
  {
   "cell_type": "code",
   "execution_count": 12,
   "metadata": {
    "collapsed": false
   },
   "outputs": [
    {
     "data": {
      "text/plain": [
       "<matplotlib.axes._subplots.AxesSubplot at 0x7f9db238de90>"
      ]
     },
     "execution_count": 12,
     "metadata": {},
     "output_type": "execute_result"
    },
    {
     "data": {
      "image/png": "[encoded data removed]",
      "text/plain": [
       "<matplotlib.figure.Figure at 0x7f9db26621d0>"
      ]
     },
     "metadata": {},
     "output_type": "display_data"
    }
   ],
   "source": [
    "plot = meanViewers.plot(kind='bar', figsize=(10, 5), legend=False, title='Durchschnittliche Live Zuschauer beim Chat Duell')\n",
    "plot.set_xlabel('Datum')\n",
    "plot.set_ylabel('Zuschauer')\n",
    "plot"
   ]
  }
 ],
 "metadata": {
  "kernelspec": {
   "display_name": "Python 2",
   "language": "python",
   "name": "python2"
  },
  "language_info": {
   "codemirror_mode": {
    "name": "ipython",
    "version": 2
   },
   "file_extension": ".py",
   "mimetype": "text/x-python",
   "name": "python",
   "nbconvert_exporter": "python",
   "pygments_lexer": "ipython2",
   "version": "2.7.12"
  }
 },
 "nbformat": 4,
 "nbformat_minor": 1
}
