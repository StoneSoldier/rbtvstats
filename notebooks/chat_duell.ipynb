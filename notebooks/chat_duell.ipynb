{
 "cells": [
  {
   "cell_type": "markdown",
   "metadata": {
    "collapsed": false
   },
   "source": [
    "# Chat Duell\n",
    "___"
   ]
  },
  {
   "cell_type": "code",
   "execution_count": 1,
   "metadata": {
    "collapsed": true
   },
   "outputs": [],
   "source": [
    "from __future__ import unicode_literals\n",
    "import pandas as pd\n",
    "import matplotlib\n",
    "import matplotlib.pyplot as plt\n",
    "import sys\n",
    "import datetime\n",
    "import common.chat\n",
    "import common.live"
   ]
  },
  {
   "cell_type": "code",
   "execution_count": 2,
   "metadata": {
    "collapsed": false
   },
   "outputs": [],
   "source": [
    "#config\n",
    "reload(sys)\n",
    "sys.setdefaultencoding('utf-8')\n",
    "matplotlib.style.use('ggplot')\n",
    "%matplotlib inline\n",
    "\n",
    "#constants\n",
    "CHAT_DATA_DIRECTORY = '/home/marcel/Development/rbtvdata/chat'\n",
    "LIVE_DATA_DIRECTORY = '/home/marcel/Development/rbtvdata/live'"
   ]
  },
  {
   "cell_type": "markdown",
   "metadata": {},
   "source": [
    "## Chat Daten\n",
    "___"
   ]
  },
  {
   "cell_type": "code",
   "execution_count": 3,
   "metadata": {
    "collapsed": false
   },
   "outputs": [],
   "source": [
    "#load chat data\n",
    "chat = common.chat.load(CHAT_DATA_DIRECTORY)\n",
    "\n",
    "#create additional columns\n",
    "chat['date'] = chat.index.date\n",
    "chat['time'] = chat.index.time\n",
    "chat['weekday'] = chat.index.dayofweek"
   ]
  },
  {
   "cell_type": "code",
   "execution_count": 4,
   "metadata": {
    "collapsed": false,
    "scrolled": true
   },
   "outputs": [
    {
     "data": {
      "text/html": [
       "<div>\n",
       "<table border=\"1\" class=\"dataframe\">\n",
       "  <thead>\n",
       "    <tr style=\"text-align: right;\">\n",
       "      <th></th>\n",
       "      <th>username</th>\n",
       "      <th>message</th>\n",
       "      <th>date</th>\n",
       "      <th>time</th>\n",
       "      <th>weekday</th>\n",
       "    </tr>\n",
       "    <tr>\n",
       "      <th>datetime</th>\n",
       "      <th></th>\n",
       "      <th></th>\n",
       "      <th></th>\n",
       "      <th></th>\n",
       "      <th></th>\n",
       "    </tr>\n",
       "  </thead>\n",
       "  <tbody>\n",
       "    <tr>\n",
       "      <th>2015-08-05 02:00:09</th>\n",
       "      <td>tadloss</td>\n",
       "      <td>!sendeplan</td>\n",
       "      <td>2015-08-05</td>\n",
       "      <td>02:00:09</td>\n",
       "      <td>2</td>\n",
       "    </tr>\n",
       "    <tr>\n",
       "      <th>2015-08-05 02:00:09</th>\n",
       "      <td>moobot</td>\n",
       "      <td>Angaben zum aktuellen Programm findet Ihr: Auf...</td>\n",
       "      <td>2015-08-05</td>\n",
       "      <td>02:00:09</td>\n",
       "      <td>2</td>\n",
       "    </tr>\n",
       "    <tr>\n",
       "      <th>2015-08-05 02:00:10</th>\n",
       "      <td>dersendeplan</td>\n",
       "      <td>@tadloss (01:00) Blue Estate &gt;&gt; (02:30) Darkes...</td>\n",
       "      <td>2015-08-05</td>\n",
       "      <td>02:00:10</td>\n",
       "      <td>2</td>\n",
       "    </tr>\n",
       "    <tr>\n",
       "      <th>2015-08-05 02:00:17</th>\n",
       "      <td>dedalos_stormbring</td>\n",
       "      <td>@Gunvolf, Brav. Kappa</td>\n",
       "      <td>2015-08-05</td>\n",
       "      <td>02:00:17</td>\n",
       "      <td>2</td>\n",
       "    </tr>\n",
       "    <tr>\n",
       "      <th>2015-08-05 02:00:18</th>\n",
       "      <td>unclesreefermadness</td>\n",
       "      <td>ist da nicht schmatzen gäng und ein kompliment</td>\n",
       "      <td>2015-08-05</td>\n",
       "      <td>02:00:18</td>\n",
       "      <td>2</td>\n",
       "    </tr>\n",
       "  </tbody>\n",
       "</table>\n",
       "</div>"
      ],
      "text/plain": [
       "                                username  \\\n",
       "datetime                                   \n",
       "2015-08-05 02:00:09              tadloss   \n",
       "2015-08-05 02:00:09               moobot   \n",
       "2015-08-05 02:00:10         dersendeplan   \n",
       "2015-08-05 02:00:17   dedalos_stormbring   \n",
       "2015-08-05 02:00:18  unclesreefermadness   \n",
       "\n",
       "                                                               message  \\\n",
       "datetime                                                                 \n",
       "2015-08-05 02:00:09                                         !sendeplan   \n",
       "2015-08-05 02:00:09  Angaben zum aktuellen Programm findet Ihr: Auf...   \n",
       "2015-08-05 02:00:10  @tadloss (01:00) Blue Estate >> (02:30) Darkes...   \n",
       "2015-08-05 02:00:17                              @Gunvolf, Brav. Kappa   \n",
       "2015-08-05 02:00:18     ist da nicht schmatzen gäng und ein kompliment   \n",
       "\n",
       "                           date      time  weekday  \n",
       "datetime                                            \n",
       "2015-08-05 02:00:09  2015-08-05  02:00:09        2  \n",
       "2015-08-05 02:00:09  2015-08-05  02:00:09        2  \n",
       "2015-08-05 02:00:10  2015-08-05  02:00:10        2  \n",
       "2015-08-05 02:00:17  2015-08-05  02:00:17        2  \n",
       "2015-08-05 02:00:18  2015-08-05  02:00:18        2  "
      ]
     },
     "execution_count": 4,
     "metadata": {},
     "output_type": "execute_result"
    }
   ],
   "source": [
    "chat.head()"
   ]
  },
  {
   "cell_type": "code",
   "execution_count": 5,
   "metadata": {
    "collapsed": false
   },
   "outputs": [
    {
     "data": {
      "text/html": [
       "<div>\n",
       "<table border=\"1\" class=\"dataframe\">\n",
       "  <thead>\n",
       "    <tr style=\"text-align: right;\">\n",
       "      <th></th>\n",
       "      <th>username</th>\n",
       "      <th>message</th>\n",
       "      <th>date</th>\n",
       "      <th>time</th>\n",
       "      <th>weekday</th>\n",
       "    </tr>\n",
       "    <tr>\n",
       "      <th>datetime</th>\n",
       "      <th></th>\n",
       "      <th></th>\n",
       "      <th></th>\n",
       "      <th></th>\n",
       "      <th></th>\n",
       "    </tr>\n",
       "  </thead>\n",
       "  <tbody>\n",
       "    <tr>\n",
       "      <th>2016-10-08 00:04:53</th>\n",
       "      <td>Arduqq Oy</td>\n",
       "      <td>❤❤❤❤❤💜💜💜💜💜</td>\n",
       "      <td>2016-10-08</td>\n",
       "      <td>00:04:53</td>\n",
       "      <td>5</td>\n",
       "    </tr>\n",
       "    <tr>\n",
       "      <th>2016-10-08 00:04:53</th>\n",
       "      <td>Shaizu</td>\n",
       "      <td>Einfach klasse!!!!!</td>\n",
       "      <td>2016-10-08</td>\n",
       "      <td>00:04:53</td>\n",
       "      <td>5</td>\n",
       "    </tr>\n",
       "    <tr>\n",
       "      <th>2016-10-08 00:04:53</th>\n",
       "      <td>Giraaf En-Boui</td>\n",
       "      <td>&lt;3</td>\n",
       "      <td>2016-10-08</td>\n",
       "      <td>00:04:53</td>\n",
       "      <td>5</td>\n",
       "    </tr>\n",
       "    <tr>\n",
       "      <th>2016-10-08 00:04:54</th>\n",
       "      <td>AdvocatusDiaboli</td>\n",
       "      <td>^&lt;33 💜 💜 💜</td>\n",
       "      <td>2016-10-08</td>\n",
       "      <td>00:04:54</td>\n",
       "      <td>5</td>\n",
       "    </tr>\n",
       "    <tr>\n",
       "      <th>2016-10-08 00:04:54</th>\n",
       "      <td>AdvocatusDiaboli</td>\n",
       "      <td>^&lt;33 💜 💜 💜</td>\n",
       "      <td>2016-10-08</td>\n",
       "      <td>00:04:54</td>\n",
       "      <td>5</td>\n",
       "    </tr>\n",
       "  </tbody>\n",
       "</table>\n",
       "</div>"
      ],
      "text/plain": [
       "                             username              message        date  \\\n",
       "datetime                                                                 \n",
       "2016-10-08 00:04:53         Arduqq Oy           ❤❤❤❤❤💜💜💜💜💜  2016-10-08   \n",
       "2016-10-08 00:04:53            Shaizu  Einfach klasse!!!!!  2016-10-08   \n",
       "2016-10-08 00:04:53    Giraaf En-Boui                   <3  2016-10-08   \n",
       "2016-10-08 00:04:54  AdvocatusDiaboli           ^<33 💜 💜 💜  2016-10-08   \n",
       "2016-10-08 00:04:54  AdvocatusDiaboli           ^<33 💜 💜 💜  2016-10-08   \n",
       "\n",
       "                         time  weekday  \n",
       "datetime                                \n",
       "2016-10-08 00:04:53  00:04:53        5  \n",
       "2016-10-08 00:04:53  00:04:53        5  \n",
       "2016-10-08 00:04:53  00:04:53        5  \n",
       "2016-10-08 00:04:54  00:04:54        5  \n",
       "2016-10-08 00:04:54  00:04:54        5  "
      ]
     },
     "execution_count": 5,
     "metadata": {},
     "output_type": "execute_result"
    }
   ],
   "source": [
    "chat.tail()"
   ]
  },
  {
   "cell_type": "code",
   "execution_count": 6,
   "metadata": {
    "collapsed": false,
    "scrolled": false
   },
   "outputs": [],
   "source": [
    "#filter chat data by time\n",
    "start = datetime.time(20, 15, 0)\n",
    "end = datetime.time(21, 45, 0)\n",
    "chatFiltered = chat.between_time(start, end)\n",
    "\n",
    "#filter chat data by messages containing `!cd`\n",
    "chatFiltered = chatFiltered[chatFiltered['message'].str.contains('!cd')]\n",
    "\n",
    "#filter chat data by weekday\n",
    "chatFiltered = chatFiltered[chatFiltered['weekday'] == 1]\n",
    "\n",
    "#group chat data by date\n",
    "chatGrouped = chatFiltered.groupby('date')\n",
    "\n",
    "#filter groups by count threshold\n",
    "chatGrouped = chatGrouped.filter(lambda group: len(group) > 2000)\n",
    "\n",
    "#group chat data by date\n",
    "chatGrouped = chatGrouped.groupby('date')\n",
    "\n",
    "#count unique users\n",
    "chatParticipants = chatGrouped.agg({'username': pd.Series.nunique})\n",
    "chatParticipants.columns = ['participants']"
   ]
  },
  {
   "cell_type": "markdown",
   "metadata": {},
   "source": [
    "## Live Daten\n",
    "___"
   ]
  },
  {
   "cell_type": "code",
   "execution_count": 7,
   "metadata": {
    "collapsed": false
   },
   "outputs": [],
   "source": [
    "#load live data\n",
    "live = common.live.load(LIVE_DATA_DIRECTORY)"
   ]
  },
  {
   "cell_type": "code",
   "execution_count": 8,
   "metadata": {
    "collapsed": false
   },
   "outputs": [
    {
     "data": {
      "text/html": [
       "<div>\n",
       "<table border=\"1\" class=\"dataframe\">\n",
       "  <thead>\n",
       "    <tr style=\"text-align: right;\">\n",
       "      <th></th>\n",
       "      <th>viewers</th>\n",
       "    </tr>\n",
       "    <tr>\n",
       "      <th>datetime</th>\n",
       "      <th></th>\n",
       "    </tr>\n",
       "  </thead>\n",
       "  <tbody>\n",
       "    <tr>\n",
       "      <th>2015-01-15 18:37:00</th>\n",
       "      <td>757.000000</td>\n",
       "    </tr>\n",
       "    <tr>\n",
       "      <th>2015-01-15 18:38:00</th>\n",
       "      <td>2379.166667</td>\n",
       "    </tr>\n",
       "    <tr>\n",
       "      <th>2015-01-15 18:39:00</th>\n",
       "      <td>10490.000000</td>\n",
       "    </tr>\n",
       "    <tr>\n",
       "      <th>2015-01-15 18:40:00</th>\n",
       "      <td>13232.000000</td>\n",
       "    </tr>\n",
       "    <tr>\n",
       "      <th>2015-01-15 18:41:00</th>\n",
       "      <td>13232.000000</td>\n",
       "    </tr>\n",
       "  </tbody>\n",
       "</table>\n",
       "</div>"
      ],
      "text/plain": [
       "                          viewers\n",
       "datetime                         \n",
       "2015-01-15 18:37:00    757.000000\n",
       "2015-01-15 18:38:00   2379.166667\n",
       "2015-01-15 18:39:00  10490.000000\n",
       "2015-01-15 18:40:00  13232.000000\n",
       "2015-01-15 18:41:00  13232.000000"
      ]
     },
     "execution_count": 8,
     "metadata": {},
     "output_type": "execute_result"
    }
   ],
   "source": [
    "live.head()"
   ]
  },
  {
   "cell_type": "code",
   "execution_count": 9,
   "metadata": {
    "collapsed": false
   },
   "outputs": [
    {
     "data": {
      "text/html": [
       "<div>\n",
       "<table border=\"1\" class=\"dataframe\">\n",
       "  <thead>\n",
       "    <tr style=\"text-align: right;\">\n",
       "      <th></th>\n",
       "      <th>viewers</th>\n",
       "    </tr>\n",
       "    <tr>\n",
       "      <th>datetime</th>\n",
       "      <th></th>\n",
       "    </tr>\n",
       "  </thead>\n",
       "  <tbody>\n",
       "    <tr>\n",
       "      <th>2016-10-08 00:10:00</th>\n",
       "      <td>12059.0</td>\n",
       "    </tr>\n",
       "    <tr>\n",
       "      <th>2016-10-08 00:11:00</th>\n",
       "      <td>11849.0</td>\n",
       "    </tr>\n",
       "    <tr>\n",
       "      <th>2016-10-08 00:12:00</th>\n",
       "      <td>11591.0</td>\n",
       "    </tr>\n",
       "    <tr>\n",
       "      <th>2016-10-08 00:13:00</th>\n",
       "      <td>11483.0</td>\n",
       "    </tr>\n",
       "    <tr>\n",
       "      <th>2016-10-08 00:14:00</th>\n",
       "      <td>11323.0</td>\n",
       "    </tr>\n",
       "  </tbody>\n",
       "</table>\n",
       "</div>"
      ],
      "text/plain": [
       "                     viewers\n",
       "datetime                    \n",
       "2016-10-08 00:10:00  12059.0\n",
       "2016-10-08 00:11:00  11849.0\n",
       "2016-10-08 00:12:00  11591.0\n",
       "2016-10-08 00:13:00  11483.0\n",
       "2016-10-08 00:14:00  11323.0"
      ]
     },
     "execution_count": 9,
     "metadata": {},
     "output_type": "execute_result"
    }
   ],
   "source": [
    "live.tail()"
   ]
  },
  {
   "cell_type": "code",
   "execution_count": 10,
   "metadata": {
    "collapsed": false
   },
   "outputs": [
    {
     "data": {
      "text/html": [
       "<div>\n",
       "<table border=\"1\" class=\"dataframe\">\n",
       "  <thead>\n",
       "    <tr style=\"text-align: right;\">\n",
       "      <th></th>\n",
       "      <th>viewers</th>\n",
       "    </tr>\n",
       "    <tr>\n",
       "      <th>date</th>\n",
       "      <th></th>\n",
       "    </tr>\n",
       "  </thead>\n",
       "  <tbody>\n",
       "    <tr>\n",
       "      <th>2015-12-01</th>\n",
       "      <td>19536</td>\n",
       "    </tr>\n",
       "    <tr>\n",
       "      <th>2015-12-08</th>\n",
       "      <td>20222</td>\n",
       "    </tr>\n",
       "    <tr>\n",
       "      <th>2015-12-15</th>\n",
       "      <td>14152</td>\n",
       "    </tr>\n",
       "    <tr>\n",
       "      <th>2015-12-22</th>\n",
       "      <td>15197</td>\n",
       "    </tr>\n",
       "    <tr>\n",
       "      <th>2016-01-12</th>\n",
       "      <td>18277</td>\n",
       "    </tr>\n",
       "    <tr>\n",
       "      <th>2016-01-19</th>\n",
       "      <td>17225</td>\n",
       "    </tr>\n",
       "    <tr>\n",
       "      <th>2016-02-02</th>\n",
       "      <td>15669</td>\n",
       "    </tr>\n",
       "    <tr>\n",
       "      <th>2016-02-09</th>\n",
       "      <td>36155</td>\n",
       "    </tr>\n",
       "    <tr>\n",
       "      <th>2016-02-16</th>\n",
       "      <td>16123</td>\n",
       "    </tr>\n",
       "    <tr>\n",
       "      <th>2016-02-23</th>\n",
       "      <td>16819</td>\n",
       "    </tr>\n",
       "    <tr>\n",
       "      <th>2016-03-01</th>\n",
       "      <td>29588</td>\n",
       "    </tr>\n",
       "    <tr>\n",
       "      <th>2016-03-08</th>\n",
       "      <td>15515</td>\n",
       "    </tr>\n",
       "    <tr>\n",
       "      <th>2016-03-15</th>\n",
       "      <td>17055</td>\n",
       "    </tr>\n",
       "    <tr>\n",
       "      <th>2016-06-28</th>\n",
       "      <td>15704</td>\n",
       "    </tr>\n",
       "    <tr>\n",
       "      <th>2016-07-12</th>\n",
       "      <td>12250</td>\n",
       "    </tr>\n",
       "    <tr>\n",
       "      <th>2016-07-19</th>\n",
       "      <td>11487</td>\n",
       "    </tr>\n",
       "    <tr>\n",
       "      <th>2016-07-26</th>\n",
       "      <td>12000</td>\n",
       "    </tr>\n",
       "    <tr>\n",
       "      <th>2016-08-02</th>\n",
       "      <td>11111</td>\n",
       "    </tr>\n",
       "    <tr>\n",
       "      <th>2016-08-09</th>\n",
       "      <td>12117</td>\n",
       "    </tr>\n",
       "    <tr>\n",
       "      <th>2016-08-23</th>\n",
       "      <td>12147</td>\n",
       "    </tr>\n",
       "    <tr>\n",
       "      <th>2016-08-30</th>\n",
       "      <td>10868</td>\n",
       "    </tr>\n",
       "    <tr>\n",
       "      <th>2016-09-13</th>\n",
       "      <td>8583</td>\n",
       "    </tr>\n",
       "    <tr>\n",
       "      <th>2016-09-20</th>\n",
       "      <td>7599</td>\n",
       "    </tr>\n",
       "    <tr>\n",
       "      <th>2016-09-27</th>\n",
       "      <td>8846</td>\n",
       "    </tr>\n",
       "    <tr>\n",
       "      <th>2016-10-04</th>\n",
       "      <td>8554</td>\n",
       "    </tr>\n",
       "  </tbody>\n",
       "</table>\n",
       "</div>"
      ],
      "text/plain": [
       "            viewers\n",
       "date               \n",
       "2015-12-01    19536\n",
       "2015-12-08    20222\n",
       "2015-12-15    14152\n",
       "2015-12-22    15197\n",
       "2016-01-12    18277\n",
       "2016-01-19    17225\n",
       "2016-02-02    15669\n",
       "2016-02-09    36155\n",
       "2016-02-16    16123\n",
       "2016-02-23    16819\n",
       "2016-03-01    29588\n",
       "2016-03-08    15515\n",
       "2016-03-15    17055\n",
       "2016-06-28    15704\n",
       "2016-07-12    12250\n",
       "2016-07-19    11487\n",
       "2016-07-26    12000\n",
       "2016-08-02    11111\n",
       "2016-08-09    12117\n",
       "2016-08-23    12147\n",
       "2016-08-30    10868\n",
       "2016-09-13     8583\n",
       "2016-09-20     7599\n",
       "2016-09-27     8846\n",
       "2016-10-04     8554"
      ]
     },
     "execution_count": 10,
     "metadata": {},
     "output_type": "execute_result"
    }
   ],
   "source": [
    "#prepare live viewer data\n",
    "liveMeanTmp = []\n",
    "for date, count in chatGrouped.size().iteritems():\n",
    "    start = datetime.datetime.combine(date, datetime.time(20, 15, 0))\n",
    "    end = datetime.datetime.combine(date, datetime.time(22, 0, 0))\n",
    "    viewers = live.loc[start : end]['viewers']\n",
    "    liveMeanTmp.append((date, int(viewers.mean())))\n",
    "\n",
    "#live mean viewers dataframe\n",
    "liveMean = pd.DataFrame(liveMeanTmp, columns=['date', 'viewers'])\n",
    "\n",
    "#index\n",
    "liveMean = liveMean.set_index(liveMean['date'])\n",
    "liveMean.drop('date', axis=1, inplace=True)\n",
    "\n",
    "liveMean"
   ]
  },
  {
   "cell_type": "code",
   "execution_count": 11,
   "metadata": {
    "collapsed": false
   },
   "outputs": [
    {
     "data": {
      "text/html": [
       "<div>\n",
       "<table border=\"1\" class=\"dataframe\">\n",
       "  <thead>\n",
       "    <tr style=\"text-align: right;\">\n",
       "      <th></th>\n",
       "      <th>participants</th>\n",
       "      <th>viewers</th>\n",
       "      <th>ratio</th>\n",
       "    </tr>\n",
       "    <tr>\n",
       "      <th>date</th>\n",
       "      <th></th>\n",
       "      <th></th>\n",
       "      <th></th>\n",
       "    </tr>\n",
       "  </thead>\n",
       "  <tbody>\n",
       "    <tr>\n",
       "      <th>2015-12-01</th>\n",
       "      <td>8275</td>\n",
       "      <td>19536</td>\n",
       "      <td>0.423577</td>\n",
       "    </tr>\n",
       "    <tr>\n",
       "      <th>2015-12-08</th>\n",
       "      <td>7978</td>\n",
       "      <td>20222</td>\n",
       "      <td>0.394521</td>\n",
       "    </tr>\n",
       "    <tr>\n",
       "      <th>2015-12-15</th>\n",
       "      <td>5696</td>\n",
       "      <td>14152</td>\n",
       "      <td>0.402487</td>\n",
       "    </tr>\n",
       "    <tr>\n",
       "      <th>2015-12-22</th>\n",
       "      <td>6050</td>\n",
       "      <td>15197</td>\n",
       "      <td>0.398105</td>\n",
       "    </tr>\n",
       "    <tr>\n",
       "      <th>2016-01-12</th>\n",
       "      <td>7277</td>\n",
       "      <td>18277</td>\n",
       "      <td>0.398151</td>\n",
       "    </tr>\n",
       "    <tr>\n",
       "      <th>2016-01-19</th>\n",
       "      <td>6756</td>\n",
       "      <td>17225</td>\n",
       "      <td>0.392221</td>\n",
       "    </tr>\n",
       "    <tr>\n",
       "      <th>2016-02-02</th>\n",
       "      <td>6040</td>\n",
       "      <td>15669</td>\n",
       "      <td>0.385475</td>\n",
       "    </tr>\n",
       "    <tr>\n",
       "      <th>2016-02-09</th>\n",
       "      <td>11989</td>\n",
       "      <td>36155</td>\n",
       "      <td>0.331600</td>\n",
       "    </tr>\n",
       "    <tr>\n",
       "      <th>2016-02-16</th>\n",
       "      <td>5736</td>\n",
       "      <td>16123</td>\n",
       "      <td>0.355765</td>\n",
       "    </tr>\n",
       "    <tr>\n",
       "      <th>2016-02-23</th>\n",
       "      <td>6102</td>\n",
       "      <td>16819</td>\n",
       "      <td>0.362804</td>\n",
       "    </tr>\n",
       "    <tr>\n",
       "      <th>2016-03-01</th>\n",
       "      <td>11257</td>\n",
       "      <td>29588</td>\n",
       "      <td>0.380458</td>\n",
       "    </tr>\n",
       "    <tr>\n",
       "      <th>2016-03-08</th>\n",
       "      <td>5828</td>\n",
       "      <td>15515</td>\n",
       "      <td>0.375636</td>\n",
       "    </tr>\n",
       "    <tr>\n",
       "      <th>2016-03-15</th>\n",
       "      <td>5605</td>\n",
       "      <td>17055</td>\n",
       "      <td>0.328643</td>\n",
       "    </tr>\n",
       "    <tr>\n",
       "      <th>2016-06-28</th>\n",
       "      <td>4468</td>\n",
       "      <td>15704</td>\n",
       "      <td>0.284513</td>\n",
       "    </tr>\n",
       "    <tr>\n",
       "      <th>2016-07-12</th>\n",
       "      <td>3519</td>\n",
       "      <td>12250</td>\n",
       "      <td>0.287265</td>\n",
       "    </tr>\n",
       "    <tr>\n",
       "      <th>2016-07-19</th>\n",
       "      <td>2750</td>\n",
       "      <td>11487</td>\n",
       "      <td>0.239401</td>\n",
       "    </tr>\n",
       "    <tr>\n",
       "      <th>2016-07-26</th>\n",
       "      <td>3656</td>\n",
       "      <td>12000</td>\n",
       "      <td>0.304667</td>\n",
       "    </tr>\n",
       "    <tr>\n",
       "      <th>2016-08-02</th>\n",
       "      <td>3054</td>\n",
       "      <td>11111</td>\n",
       "      <td>0.274863</td>\n",
       "    </tr>\n",
       "    <tr>\n",
       "      <th>2016-08-09</th>\n",
       "      <td>3008</td>\n",
       "      <td>12117</td>\n",
       "      <td>0.248246</td>\n",
       "    </tr>\n",
       "    <tr>\n",
       "      <th>2016-08-23</th>\n",
       "      <td>3017</td>\n",
       "      <td>12147</td>\n",
       "      <td>0.248374</td>\n",
       "    </tr>\n",
       "    <tr>\n",
       "      <th>2016-08-30</th>\n",
       "      <td>2743</td>\n",
       "      <td>10868</td>\n",
       "      <td>0.252392</td>\n",
       "    </tr>\n",
       "    <tr>\n",
       "      <th>2016-09-13</th>\n",
       "      <td>2383</td>\n",
       "      <td>8583</td>\n",
       "      <td>0.277642</td>\n",
       "    </tr>\n",
       "    <tr>\n",
       "      <th>2016-09-20</th>\n",
       "      <td>1927</td>\n",
       "      <td>7599</td>\n",
       "      <td>0.253586</td>\n",
       "    </tr>\n",
       "    <tr>\n",
       "      <th>2016-09-27</th>\n",
       "      <td>2651</td>\n",
       "      <td>8846</td>\n",
       "      <td>0.299683</td>\n",
       "    </tr>\n",
       "    <tr>\n",
       "      <th>2016-10-04</th>\n",
       "      <td>2313</td>\n",
       "      <td>8554</td>\n",
       "      <td>0.270400</td>\n",
       "    </tr>\n",
       "  </tbody>\n",
       "</table>\n",
       "</div>"
      ],
      "text/plain": [
       "            participants  viewers     ratio\n",
       "date                                       \n",
       "2015-12-01          8275    19536  0.423577\n",
       "2015-12-08          7978    20222  0.394521\n",
       "2015-12-15          5696    14152  0.402487\n",
       "2015-12-22          6050    15197  0.398105\n",
       "2016-01-12          7277    18277  0.398151\n",
       "2016-01-19          6756    17225  0.392221\n",
       "2016-02-02          6040    15669  0.385475\n",
       "2016-02-09         11989    36155  0.331600\n",
       "2016-02-16          5736    16123  0.355765\n",
       "2016-02-23          6102    16819  0.362804\n",
       "2016-03-01         11257    29588  0.380458\n",
       "2016-03-08          5828    15515  0.375636\n",
       "2016-03-15          5605    17055  0.328643\n",
       "2016-06-28          4468    15704  0.284513\n",
       "2016-07-12          3519    12250  0.287265\n",
       "2016-07-19          2750    11487  0.239401\n",
       "2016-07-26          3656    12000  0.304667\n",
       "2016-08-02          3054    11111  0.274863\n",
       "2016-08-09          3008    12117  0.248246\n",
       "2016-08-23          3017    12147  0.248374\n",
       "2016-08-30          2743    10868  0.252392\n",
       "2016-09-13          2383     8583  0.277642\n",
       "2016-09-20          1927     7599  0.253586\n",
       "2016-09-27          2651     8846  0.299683\n",
       "2016-10-04          2313     8554  0.270400"
      ]
     },
     "execution_count": 11,
     "metadata": {},
     "output_type": "execute_result"
    }
   ],
   "source": [
    "#join data\n",
    "joinedData = chatParticipants.join(liveMean)\n",
    "\n",
    "#participants to viewers ratio\n",
    "joinedData['ratio'] = joinedData['participants'] / joinedData['viewers']\n",
    "\n",
    "joinedData"
   ]
  },
  {
   "cell_type": "markdown",
   "metadata": {},
   "source": [
    "## Diagramme\n",
    "___"
   ]
  },
  {
   "cell_type": "code",
   "execution_count": 12,
   "metadata": {
    "collapsed": false
   },
   "outputs": [
    {
     "data": {
      "text/plain": [
       "<matplotlib.axes._subplots.AxesSubplot at 0x7f197b021290>"
      ]
     },
     "execution_count": 12,
     "metadata": {},
     "output_type": "execute_result"
    },
    {
     "data": {
      "image/png": "[encoded data removed]",
      "text/plain": [
       "<matplotlib.figure.Figure at 0x7f197b2b8d50>"
      ]
     },
     "metadata": {},
     "output_type": "display_data"
    }
   ],
   "source": [
    "plot = joinedData[['participants', 'viewers']].plot(kind='bar', figsize=(10, 6), legend=False, title='Anzahl Teilnehmer und Zuschauer')\n",
    "plot.set_ylabel('Anzahl')\n",
    "\n",
    "legend = plot.legend(loc=2)\n",
    "legend.get_texts()[0].set_text('Teilnehmer')\n",
    "legend.get_texts()[1].set_text('Zuschauer')\n",
    "\n",
    "plot"
   ]
  },
  {
   "cell_type": "code",
   "execution_count": 13,
   "metadata": {
    "collapsed": false
   },
   "outputs": [
    {
     "data": {
      "text/plain": [
       "<matplotlib.axes._subplots.AxesSubplot at 0x7f19b3113d50>"
      ]
     },
     "execution_count": 13,
     "metadata": {},
     "output_type": "execute_result"
    },
    {
     "data": {
      "image/png": "[encoded data removed]",
      "text/plain": [
       "<matplotlib.figure.Figure at 0x7f19487d4f10>"
      ]
     },
     "metadata": {},
     "output_type": "display_data"
    }
   ],
   "source": [
    "plot = joinedData['ratio'].plot(kind='bar', figsize=(10, 6), title='Chat Teilnehmer zu Live Zuschauer Verhältnis')\n",
    "\n",
    "plot"
   ]
  }
 ],
 "metadata": {
  "kernelspec": {
   "display_name": "Python 2",
   "language": "python",
   "name": "python2"
  },
  "language_info": {
   "codemirror_mode": {
    "name": "ipython",
    "version": 2
   },
   "file_extension": ".py",
   "mimetype": "text/x-python",
   "name": "python",
   "nbconvert_exporter": "python",
   "pygments_lexer": "ipython2",
   "version": "2.7.12"
  }
 },
 "nbformat": 4,
 "nbformat_minor": 1
}
