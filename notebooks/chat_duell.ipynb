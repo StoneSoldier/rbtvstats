{
 "cells": [
  {
   "cell_type": "markdown",
   "metadata": {
    "collapsed": false
   },
   "source": [
    "# Anzahl Teilnehmer beim Chat Duell"
   ]
  },
  {
   "cell_type": "markdown",
   "metadata": {},
   "source": [
    "**Note**: At ~850MB of chat messages this script will use ~5GB of RAM. The calculations are single threaded and will take a few minutes (on an i7@4GHz)."
   ]
  },
  {
   "cell_type": "code",
   "execution_count": 1,
   "metadata": {
    "collapsed": true
   },
   "outputs": [],
   "source": [
    "import pandas as pd\n",
    "import matplotlib\n",
    "import matplotlib.pyplot as plt\n",
    "import os\n",
    "import re\n",
    "import datetime"
   ]
  },
  {
   "cell_type": "code",
   "execution_count": 2,
   "metadata": {
    "collapsed": false
   },
   "outputs": [],
   "source": [
    "#config\n",
    "matplotlib.style.use('ggplot')\n",
    "%matplotlib inline\n",
    "\n",
    "#constants\n",
    "DATA_DIRECTORY = '/home/marcel/Development/rbtvdata/chat'"
   ]
  },
  {
   "cell_type": "code",
   "execution_count": 3,
   "metadata": {
    "collapsed": false
   },
   "outputs": [],
   "source": [
    "columns = ['datetime', 'username', 'message']\n",
    "data = pd.DataFrame({}, columns=columns)\n",
    "\n",
    "exp = re.compile(\"\\[(.+?)\\] <(.+?)> (.+)?\")\n",
    "\n",
    "#read files\n",
    "files = sorted(os.listdir(DATA_DIRECTORY))\n",
    "for filename in files:\n",
    "    if filename.endswith(\".txt\"):\n",
    "        filepath = os.path.join(DATA_DIRECTORY, filename)\n",
    "        dateStr = filename.rstrip('.txt')\n",
    "        \n",
    "        #read file\n",
    "        openfile = open(filepath)\n",
    "        rawData = openfile.read()\n",
    "        openfile.close()\n",
    "\n",
    "        #process each chat message\n",
    "        splitRawData = rawData.split('\\n')\n",
    "        messages = []\n",
    "        for line in splitRawData:\n",
    "            match = exp.match(line)\n",
    "            if match is not None:\n",
    "                timeStr = match.group(1)\n",
    "                datetimeStr = dateStr + ' ' + timeStr\n",
    "                username = match.group(2)\n",
    "                message = match.group(3)\n",
    "                \n",
    "                messages.append((datetimeStr, username, message))\n",
    "        \n",
    "        #create data frame and append data\n",
    "        data = data.append(pd.DataFrame(messages, columns=columns))\n",
    "\n",
    "#adjust data type\n",
    "data['datetime'] = pd.to_datetime(data['datetime'], format='%Y-%m-%d %H:%M:%S')\n",
    "\n",
    "#create additional columns\n",
    "data['date'] = data['datetime'].dt.date\n",
    "data['time'] = data['datetime'].dt.time\n",
    "data['weekday'] = data['datetime'].dt.dayofweek\n",
    "\n",
    "#index\n",
    "data = data.set_index(pd.to_datetime(data[\"datetime\"], format='%Y-%m-%d %H:%M:%S'))"
   ]
  },
  {
   "cell_type": "code",
   "execution_count": 4,
   "metadata": {
    "collapsed": false,
    "scrolled": true
   },
   "outputs": [
    {
     "data": {
      "text/html": [
       "<div>\n",
       "<table border=\"1\" class=\"dataframe\">\n",
       "  <thead>\n",
       "    <tr style=\"text-align: right;\">\n",
       "      <th></th>\n",
       "      <th>datetime</th>\n",
       "      <th>username</th>\n",
       "      <th>message</th>\n",
       "      <th>date</th>\n",
       "      <th>time</th>\n",
       "      <th>weekday</th>\n",
       "    </tr>\n",
       "    <tr>\n",
       "      <th>datetime</th>\n",
       "      <th></th>\n",
       "      <th></th>\n",
       "      <th></th>\n",
       "      <th></th>\n",
       "      <th></th>\n",
       "      <th></th>\n",
       "    </tr>\n",
       "  </thead>\n",
       "  <tbody>\n",
       "    <tr>\n",
       "      <th>2015-08-05 02:00:09</th>\n",
       "      <td>2015-08-05 02:00:09</td>\n",
       "      <td>tadloss</td>\n",
       "      <td>!sendeplan</td>\n",
       "      <td>2015-08-05</td>\n",
       "      <td>02:00:09</td>\n",
       "      <td>2</td>\n",
       "    </tr>\n",
       "    <tr>\n",
       "      <th>2015-08-05 02:00:09</th>\n",
       "      <td>2015-08-05 02:00:09</td>\n",
       "      <td>moobot</td>\n",
       "      <td>Angaben zum aktuellen Programm findet Ihr: Auf...</td>\n",
       "      <td>2015-08-05</td>\n",
       "      <td>02:00:09</td>\n",
       "      <td>2</td>\n",
       "    </tr>\n",
       "    <tr>\n",
       "      <th>2015-08-05 02:00:10</th>\n",
       "      <td>2015-08-05 02:00:10</td>\n",
       "      <td>dersendeplan</td>\n",
       "      <td>@tadloss (01:00) Blue Estate &gt;&gt; (02:30) Darkes...</td>\n",
       "      <td>2015-08-05</td>\n",
       "      <td>02:00:10</td>\n",
       "      <td>2</td>\n",
       "    </tr>\n",
       "    <tr>\n",
       "      <th>2015-08-05 02:00:17</th>\n",
       "      <td>2015-08-05 02:00:17</td>\n",
       "      <td>dedalos_stormbring</td>\n",
       "      <td>@Gunvolf, Brav. Kappa</td>\n",
       "      <td>2015-08-05</td>\n",
       "      <td>02:00:17</td>\n",
       "      <td>2</td>\n",
       "    </tr>\n",
       "    <tr>\n",
       "      <th>2015-08-05 02:00:18</th>\n",
       "      <td>2015-08-05 02:00:18</td>\n",
       "      <td>unclesreefermadness</td>\n",
       "      <td>ist da nicht schmatzen gäng und ein kompliment</td>\n",
       "      <td>2015-08-05</td>\n",
       "      <td>02:00:18</td>\n",
       "      <td>2</td>\n",
       "    </tr>\n",
       "  </tbody>\n",
       "</table>\n",
       "</div>"
      ],
      "text/plain": [
       "                               datetime             username  \\\n",
       "datetime                                                       \n",
       "2015-08-05 02:00:09 2015-08-05 02:00:09              tadloss   \n",
       "2015-08-05 02:00:09 2015-08-05 02:00:09               moobot   \n",
       "2015-08-05 02:00:10 2015-08-05 02:00:10         dersendeplan   \n",
       "2015-08-05 02:00:17 2015-08-05 02:00:17   dedalos_stormbring   \n",
       "2015-08-05 02:00:18 2015-08-05 02:00:18  unclesreefermadness   \n",
       "\n",
       "                                                               message  \\\n",
       "datetime                                                                 \n",
       "2015-08-05 02:00:09                                         !sendeplan   \n",
       "2015-08-05 02:00:09  Angaben zum aktuellen Programm findet Ihr: Auf...   \n",
       "2015-08-05 02:00:10  @tadloss (01:00) Blue Estate >> (02:30) Darkes...   \n",
       "2015-08-05 02:00:17                              @Gunvolf, Brav. Kappa   \n",
       "2015-08-05 02:00:18     ist da nicht schmatzen gäng und ein kompliment   \n",
       "\n",
       "                           date      time  weekday  \n",
       "datetime                                            \n",
       "2015-08-05 02:00:09  2015-08-05  02:00:09        2  \n",
       "2015-08-05 02:00:09  2015-08-05  02:00:09        2  \n",
       "2015-08-05 02:00:10  2015-08-05  02:00:10        2  \n",
       "2015-08-05 02:00:17  2015-08-05  02:00:17        2  \n",
       "2015-08-05 02:00:18  2015-08-05  02:00:18        2  "
      ]
     },
     "execution_count": 4,
     "metadata": {},
     "output_type": "execute_result"
    }
   ],
   "source": [
    "data.head()"
   ]
  },
  {
   "cell_type": "code",
   "execution_count": 5,
   "metadata": {
    "collapsed": false
   },
   "outputs": [
    {
     "data": {
      "text/html": [
       "<div>\n",
       "<table border=\"1\" class=\"dataframe\">\n",
       "  <thead>\n",
       "    <tr style=\"text-align: right;\">\n",
       "      <th></th>\n",
       "      <th>datetime</th>\n",
       "      <th>username</th>\n",
       "      <th>message</th>\n",
       "      <th>date</th>\n",
       "      <th>time</th>\n",
       "      <th>weekday</th>\n",
       "    </tr>\n",
       "    <tr>\n",
       "      <th>datetime</th>\n",
       "      <th></th>\n",
       "      <th></th>\n",
       "      <th></th>\n",
       "      <th></th>\n",
       "      <th></th>\n",
       "      <th></th>\n",
       "    </tr>\n",
       "  </thead>\n",
       "  <tbody>\n",
       "    <tr>\n",
       "      <th>2016-09-21 02:59:14</th>\n",
       "      <td>2016-09-21 02:59:14</td>\n",
       "      <td>niunOne</td>\n",
       "      <td>😖</td>\n",
       "      <td>2016-09-21</td>\n",
       "      <td>02:59:14</td>\n",
       "      <td>2</td>\n",
       "    </tr>\n",
       "    <tr>\n",
       "      <th>2016-09-21 02:59:21</th>\n",
       "      <td>2016-09-21 02:59:21</td>\n",
       "      <td>forearth</td>\n",
       "      <td>😯😦😣😠😈 Niemals! Gesichtskuchen</td>\n",
       "      <td>2016-09-21</td>\n",
       "      <td>02:59:21</td>\n",
       "      <td>2</td>\n",
       "    </tr>\n",
       "    <tr>\n",
       "      <th>2016-09-21 02:59:37</th>\n",
       "      <td>2016-09-21 02:59:37</td>\n",
       "      <td>SkyStraver</td>\n",
       "      <td>@DMC05 bitte nicht q,q Du hast soviel mehr zu ...</td>\n",
       "      <td>2016-09-21</td>\n",
       "      <td>02:59:37</td>\n",
       "      <td>2</td>\n",
       "    </tr>\n",
       "    <tr>\n",
       "      <th>2016-09-21 02:59:57</th>\n",
       "      <td>2016-09-21 02:59:57</td>\n",
       "      <td>HipHopGuru</td>\n",
       "      <td>Den hat er Jahrelang verkauft</td>\n",
       "      <td>2016-09-21</td>\n",
       "      <td>02:59:57</td>\n",
       "      <td>2</td>\n",
       "    </tr>\n",
       "    <tr>\n",
       "      <th>2016-09-21 02:59:59</th>\n",
       "      <td>2016-09-21 02:59:59</td>\n",
       "      <td>niunOne</td>\n",
       "      <td>@DMC05 du machst immer so andeutungen und dann...</td>\n",
       "      <td>2016-09-21</td>\n",
       "      <td>02:59:59</td>\n",
       "      <td>2</td>\n",
       "    </tr>\n",
       "  </tbody>\n",
       "</table>\n",
       "</div>"
      ],
      "text/plain": [
       "                               datetime    username  \\\n",
       "datetime                                              \n",
       "2016-09-21 02:59:14 2016-09-21 02:59:14     niunOne   \n",
       "2016-09-21 02:59:21 2016-09-21 02:59:21    forearth   \n",
       "2016-09-21 02:59:37 2016-09-21 02:59:37  SkyStraver   \n",
       "2016-09-21 02:59:57 2016-09-21 02:59:57  HipHopGuru   \n",
       "2016-09-21 02:59:59 2016-09-21 02:59:59     niunOne   \n",
       "\n",
       "                                                               message  \\\n",
       "datetime                                                                 \n",
       "2016-09-21 02:59:14                                                  😖   \n",
       "2016-09-21 02:59:21                      😯😦😣😠😈 Niemals! Gesichtskuchen   \n",
       "2016-09-21 02:59:37  @DMC05 bitte nicht q,q Du hast soviel mehr zu ...   \n",
       "2016-09-21 02:59:57                      Den hat er Jahrelang verkauft   \n",
       "2016-09-21 02:59:59  @DMC05 du machst immer so andeutungen und dann...   \n",
       "\n",
       "                           date      time  weekday  \n",
       "datetime                                            \n",
       "2016-09-21 02:59:14  2016-09-21  02:59:14        2  \n",
       "2016-09-21 02:59:21  2016-09-21  02:59:21        2  \n",
       "2016-09-21 02:59:37  2016-09-21  02:59:37        2  \n",
       "2016-09-21 02:59:57  2016-09-21  02:59:57        2  \n",
       "2016-09-21 02:59:59  2016-09-21  02:59:59        2  "
      ]
     },
     "execution_count": 5,
     "metadata": {},
     "output_type": "execute_result"
    }
   ],
   "source": [
    "data.tail()"
   ]
  },
  {
   "cell_type": "code",
   "execution_count": 6,
   "metadata": {
    "collapsed": false,
    "scrolled": false
   },
   "outputs": [
    {
     "data": {
      "text/plain": [
       "date\n",
       "2015-12-01     8277\n",
       "2015-12-08     7982\n",
       "2015-12-15     5697\n",
       "2015-12-22     6051\n",
       "2016-01-12     7278\n",
       "2016-01-19     6756\n",
       "2016-02-02     6040\n",
       "2016-02-09    11992\n",
       "2016-02-16     5736\n",
       "2016-02-23     6108\n",
       "2016-03-01    11267\n",
       "2016-03-08     5833\n",
       "2016-03-15     5605\n",
       "2016-06-28     4470\n",
       "2016-07-12     3520\n",
       "2016-07-19     2750\n",
       "2016-07-26     3656\n",
       "2016-08-02     3055\n",
       "2016-08-09     3018\n",
       "2016-08-23     3019\n",
       "2016-08-30     2745\n",
       "2016-09-13     2386\n",
       "2016-09-20     1928\n",
       "Name: username, dtype: int64"
      ]
     },
     "execution_count": 6,
     "metadata": {},
     "output_type": "execute_result"
    }
   ],
   "source": [
    "dataFiltered = data\n",
    "\n",
    "#filter messages by time\n",
    "start = datetime.time(20, 15, 0)\n",
    "end = datetime.time(22, 15, 0)\n",
    "dataFiltered = dataFiltered.between_time(start, end)\n",
    "\n",
    "#filter messages containing `!cd`\n",
    "dataFiltered = dataFiltered[dataFiltered['message'].str.contains('!cd')]\n",
    "\n",
    "#filter meassages by weekday\n",
    "dataFiltered = dataFiltered[dataFiltered['weekday'] == 1]\n",
    "\n",
    "#group messages by date\n",
    "dataGrouped = dataFiltered.groupby('date')\n",
    "\n",
    "#filter groups by count threshold\n",
    "dataGrouped = dataGrouped.filter(lambda group: len(group) > 2000)\n",
    "\n",
    "#group messages by date\n",
    "dataGrouped = dataGrouped.groupby('date')\n",
    "\n",
    "#count (unique) users\n",
    "dataParticipants = dataGrouped.username.nunique()\n",
    "dataParticipants"
   ]
  },
  {
   "cell_type": "code",
   "execution_count": 7,
   "metadata": {
    "collapsed": false
   },
   "outputs": [
    {
     "data": {
      "text/plain": [
       "<matplotlib.axes._subplots.AxesSubplot at 0x7f9add524d90>"
      ]
     },
     "execution_count": 7,
     "metadata": {},
     "output_type": "execute_result"
    },
    {
     "data": {
      "image/png": "[encoded data removed]",
      "text/plain": [
       "<matplotlib.figure.Figure at 0x7f9b107f7190>"
      ]
     },
     "metadata": {},
     "output_type": "display_data"
    }
   ],
   "source": [
    "plot = dataParticipants.plot(kind='bar', figsize=(10, 5), title='Anzahl Teilnehmer beim Chat Duell')\n",
    "plot.set_xlabel('Datum')\n",
    "plot.set_ylabel('Teilnehmer')\n",
    "plot"
   ]
  }
 ],
 "metadata": {
  "kernelspec": {
   "display_name": "Python 2",
   "language": "python",
   "name": "python2"
  },
  "language_info": {
   "codemirror_mode": {
    "name": "ipython",
    "version": 2
   },
   "file_extension": ".py",
   "mimetype": "text/x-python",
   "name": "python",
   "nbconvert_exporter": "python",
   "pygments_lexer": "ipython2",
   "version": "2.7.12"
  }
 },
 "nbformat": 4,
 "nbformat_minor": 1
}
