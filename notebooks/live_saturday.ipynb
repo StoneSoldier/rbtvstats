{
 "cells": [
  {
   "cell_type": "code",
   "execution_count": 1,
   "metadata": {
    "collapsed": true
   },
   "outputs": [],
   "source": [
    "from __future__ import unicode_literals\n",
    "import pandas as pd\n",
    "import matplotlib\n",
    "import matplotlib.pyplot as plt\n",
    "import re\n",
    "import os\n",
    "import sys\n",
    "import datetime"
   ]
  },
  {
   "cell_type": "code",
   "execution_count": 2,
   "metadata": {
    "collapsed": false
   },
   "outputs": [],
   "source": [
    "#config\n",
    "#reload(sys)\n",
    "#sys.setdefaultencoding('utf-8')\n",
    "matplotlib.style.use('ggplot')\n",
    "%matplotlib inline\n",
    "\n",
    "#constants\n",
    "LIVE_DATA_DIRECTORY = '/home/marcel/Development/rbtvdata/live'"
   ]
  },
  {
   "cell_type": "markdown",
   "metadata": {},
   "source": [
    "## Live Data\n",
    "___"
   ]
  },
  {
   "cell_type": "code",
   "execution_count": 3,
   "metadata": {
    "collapsed": false,
    "scrolled": false
   },
   "outputs": [],
   "source": [
    "#live dataframe\n",
    "columns = ['datetime', 'viewers']\n",
    "live = pd.DataFrame({}, columns=columns)\n",
    "\n",
    "#read live files\n",
    "liveTmp = []\n",
    "files = sorted(os.listdir(LIVE_DATA_DIRECTORY))\n",
    "for filename in files:\n",
    "    if filename.endswith('.csv'):\n",
    "        filepath = os.path.join(LIVE_DATA_DIRECTORY, filename)\n",
    "        \n",
    "        #read file\n",
    "        openfile = open(filepath)\n",
    "        rawData = openfile.read()\n",
    "        openfile.close()\n",
    "        \n",
    "        #process each datapoint\n",
    "        splitRawData = rawData.split('\\n')\n",
    "        datapoints = []\n",
    "        for line in splitRawData:\n",
    "            split = line.split(',')\n",
    "            if len(split) == 2:\n",
    "                timestamp = split[0]\n",
    "                viewers = int(split[1])\n",
    "                datetimeObj = datetime.datetime.fromtimestamp(int(timestamp))\n",
    "                datapoints.append((datetimeObj, viewers))\n",
    "        \n",
    "        live = live.append(pd.DataFrame(datapoints, columns=columns))\n",
    "\n",
    "#sort data\n",
    "live = live.sort_values(['datetime'], ascending=[True])\n",
    "\n",
    "#index\n",
    "live = live.set_index(live['datetime'])\n",
    "\n",
    "#remove columns\n",
    "live = live.drop('datetime', 1)\n",
    "\n",
    "#sort\n",
    "live.sort_index(inplace=True)\n",
    "\n",
    "#resample\n",
    "live = live.resample('1min').mean().fillna(method='pad', limit=5)\n",
    "\n",
    "#create additional column\n",
    "live['day'] = live.index.strftime('%Y-%m-%d')\n",
    "live['weekday'] = live.index.dayofweek"
   ]
  },
  {
   "cell_type": "markdown",
   "metadata": {},
   "source": [
    "## Live Data\n",
    "___"
   ]
  },
  {
   "cell_type": "code",
   "execution_count": 4,
   "metadata": {
    "collapsed": false,
    "scrolled": false
   },
   "outputs": [
    {
     "name": "stdout",
     "output_type": "stream",
     "text": [
      "\n",
      "==================================================\n",
      "19:30:00 - 20:00:00\n",
      "                viewers\n",
      "day                    \n",
      "2016-09-10  2207.741935\n",
      "2016-09-17  2818.354839\n",
      "2016-09-24  2565.161290\n",
      "\n",
      "==================================================\n",
      "20:00:00 - 20:30:00\n",
      "                viewers\n",
      "day                    \n",
      "2016-09-10  2246.032258\n",
      "2016-09-17  2870.935484\n",
      "2016-09-24  2420.838710\n",
      "\n",
      "==================================================\n",
      "20:30:00 - 21:00:00\n",
      "                viewers\n",
      "day                    \n",
      "2016-09-10  2451.838710\n",
      "2016-09-17  2469.483871\n",
      "2016-09-24  2367.354839\n",
      "\n",
      "==================================================\n",
      "21:00:00 - 21:30:00\n",
      "                viewers\n",
      "day                    \n",
      "2016-09-10  2304.516129\n",
      "2016-09-17  2396.225806\n",
      "2016-09-24  2598.935484\n",
      "\n",
      "==================================================\n",
      "21:30:00 - 22:00:00\n",
      "                viewers\n",
      "day                    \n",
      "2016-09-10  2339.967742\n",
      "2016-09-17  2376.580645\n",
      "2016-09-24  2339.709677\n",
      "\n",
      "==================================================\n",
      "22:00:00 - 22:30:00\n",
      "                viewers\n",
      "day                    \n",
      "2016-09-10  2341.483871\n",
      "2016-09-17  2323.838710\n",
      "\n",
      "==================================================\n",
      "22:30:00 - 23:00:00\n",
      "                viewers\n",
      "day                    \n",
      "2016-09-10  2307.387097\n",
      "2016-09-17  2276.580645\n",
      "\n",
      "==================================================\n",
      "23:00:00 - 23:30:00\n",
      "                viewers\n",
      "day                    \n",
      "2016-09-10  2229.967742\n",
      "2016-09-17  2275.225806\n"
     ]
    }
   ],
   "source": [
    "#filter data by date\n",
    "youtubeStart = datetime.datetime(2016, 9, 10)\n",
    "youtubeEnd = datetime.datetime.now()\n",
    "liveFiltered = live.loc[youtubeStart : youtubeEnd]\n",
    "\n",
    "#filter data by weekday\n",
    "liveFiltered = liveFiltered[liveFiltered['weekday'] == 5]\n",
    "\n",
    "#filter data by time (in 30 minutes interval)\n",
    "rangeStart = datetime.time(19, 30, 0)\n",
    "rangeEnd = datetime.time(20, 0, 0)\n",
    "until = datetime.time(0, 0, 0)\n",
    "while rangeEnd != until:\n",
    "    #filter data by time\n",
    "    liveFilteredTime = liveFiltered.between_time(rangeStart, rangeEnd)\n",
    "\n",
    "    #group messages by date\n",
    "    liveGrouped = liveFilteredTime.groupby('day')\n",
    "\n",
    "    #filter groups by minimum number of datapoints\n",
    "    liveGrouped = liveGrouped.filter(lambda group: len(group) > 25)\n",
    "\n",
    "    #group messages by date\n",
    "    liveGrouped = liveGrouped.groupby('day')\n",
    "\n",
    "    #calculate mean for each day\n",
    "    liveMean = liveGrouped.apply(lambda group: group['viewers'].mean())\n",
    "    liveMean = liveMean.to_frame('viewers')\n",
    "\n",
    "    #output\n",
    "    print('\\n==================================================')\n",
    "    print(str(rangeStart) + ' - ' + str(rangeEnd))\n",
    "    print(liveMean)\n",
    "\n",
    "    #add 30 minutes\n",
    "    rangeStart = (datetime.datetime.combine(datetime.date.today(), rangeStart) + datetime.timedelta(minutes=30)).time()\n",
    "    rangeEnd = (datetime.datetime.combine(datetime.date.today(), rangeEnd) + datetime.timedelta(minutes=30)).time()"
   ]
  }
 ],
 "metadata": {
  "kernelspec": {
   "display_name": "Python 2",
   "language": "python",
   "name": "python2"
  },
  "language_info": {
   "codemirror_mode": {
    "name": "ipython",
    "version": 2
   },
   "file_extension": ".py",
   "mimetype": "text/x-python",
   "name": "python",
   "nbconvert_exporter": "python",
   "pygments_lexer": "ipython2",
   "version": "2.7.12"
  }
 },
 "nbformat": 4,
 "nbformat_minor": 1
}
